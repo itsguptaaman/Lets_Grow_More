{
 "cells": [
  {
   "cell_type": "markdown",
   "metadata": {
    "id": "F7ZOB9OPVaxx"
   },
   "source": [
    "### **Lets Grow more**\n",
    "### **Data Science Internship(JAN-2023)**\n",
    "### [Task: Develop A Neural Network That Can Read Handwriting](https://www.canva.com/design/DAEjrwWV35w/-gxHUkJMO1Zr4pYVVpOYcg/view?utm_content=DAEjrwWV35w&utm_campaign=designshare&utm_medium=link&utm_source=sharebutton#1)\n",
    "### **Aman Gupta**\n",
    "\n"
   ]
  },
  {
   "cell_type": "code",
   "execution_count": null,
   "metadata": {
    "id": "9NYNgdF1X5iR"
   },
   "outputs": [],
   "source": [
    "# Using this location as a root Directory\n",
    "import os\n",
    "ROOT = \"/content/drive/MyDrive/Colab Notebooks/Deep learning\"\n",
    "os.chdir(ROOT)"
   ]
  },
  {
   "cell_type": "code",
   "execution_count": null,
   "metadata": {
    "colab": {
     "base_uri": "https://localhost:8080/"
    },
    "id": "tMDOEG8QYFVT",
    "outputId": "1a50d0c1-8ff9-4f7f-84dc-f7bde8dd1e39"
   },
   "outputs": [
    {
     "data": {
      "text/plain": [
       "['ANN_demo.ipynb']"
      ]
     },
     "execution_count": 2,
     "metadata": {},
     "output_type": "execute_result"
    }
   ],
   "source": [
    "# Checking all the avaliable files\n",
    "os.listdir()"
   ]
  },
  {
   "cell_type": "markdown",
   "metadata": {
    "id": "QmbL_NrXJ2m8"
   },
   "source": [
    "### **Tensorflow is from google** \n",
    "### **Keras is wrapper which uses Tensorflow api now it is integrated from version 2.0**"
   ]
  },
  {
   "cell_type": "code",
   "execution_count": null,
   "metadata": {
    "colab": {
     "base_uri": "https://localhost:8080/"
    },
    "id": "pH4tpAaEYFXw",
    "outputId": "6060cad5-87d1-4a57-8c7c-dd27462068c3"
   },
   "outputs": [
    {
     "data": {
      "text/plain": [
       "('2.9.2', '2.9.0')"
      ]
     },
     "execution_count": 3,
     "metadata": {},
     "output_type": "execute_result"
    }
   ],
   "source": [
    "# Checking the tensorflow version\n",
    "import tensorflow as tf\n",
    "tf.__version__, tf.keras.__version__\n"
   ]
  },
  {
   "cell_type": "code",
   "execution_count": null,
   "metadata": {
    "colab": {
     "base_uri": "https://localhost:8080/"
    },
    "id": "XdvD-jw_YFcD",
    "outputId": "89dfde81-eb28-4ee8-fb25-7470717db559"
   },
   "outputs": [
    {
     "data": {
      "text/plain": [
       "[LogicalDevice(name='/device:GPU:0', device_type='GPU')]"
      ]
     },
     "execution_count": 4,
     "metadata": {},
     "output_type": "execute_result"
    }
   ],
   "source": [
    "# Checking if GPU is available\n",
    "tf.config.list_logical_devices(\"GPU\")"
   ]
  },
  {
   "cell_type": "markdown",
   "metadata": {
    "id": "Ij9GBE-EZsRb"
   },
   "source": [
    "### **A simple classifierusing keras's sequential API**"
   ]
  },
  {
   "cell_type": "code",
   "execution_count": null,
   "metadata": {
    "id": "75EIbJniYFeU"
   },
   "outputs": [],
   "source": [
    "# Importing the libraries\n",
    "import numpy as np\n",
    "import matplotlib.pyplot as plt\n",
    "import pandas as pd\n",
    "import tensorflow as tf\n",
    "import os"
   ]
  },
  {
   "cell_type": "markdown",
   "metadata": {
    "id": "caDmJSdBat9-"
   },
   "source": [
    "# MNIST DATASET\n",
    "* Its a dataset of handwritten digits\n",
    "* Each data point is a 2D array of 28x28 \n",
    "* It has 10 classes of 0-9\n",
    "* [DataSet Description](https://en.wikipedia.org/wiki/MNIST_database)"
   ]
  },
  {
   "cell_type": "code",
   "execution_count": null,
   "metadata": {
    "id": "L66O7hFGZqvj"
   },
   "outputs": [],
   "source": [
    "# loading the dataset\n",
    "mnist = tf.keras.datasets.mnist\n",
    "(X_train_full, y_train_full), (X_test, y_test) = mnist.load_data()"
   ]
  },
  {
   "cell_type": "code",
   "execution_count": null,
   "metadata": {
    "colab": {
     "base_uri": "https://localhost:8080/"
    },
    "id": "X0Rde_JpZ2WR",
    "outputId": "03831b7e-1d9f-4f3e-8d57-35e2339a5cf0"
   },
   "outputs": [
    {
     "data": {
      "text/plain": [
       "((60000, 28, 28), (10000, 28, 28), dtype('uint8'), dtype('uint8'))"
      ]
     },
     "execution_count": 7,
     "metadata": {},
     "output_type": "execute_result"
    }
   ],
   "source": [
    "# Shape and data-type of dataset\n",
    "X_train_full.shape, X_test.shape, X_train_full.dtype, X_test.dtype"
   ]
  },
  {
   "cell_type": "code",
   "execution_count": null,
   "metadata": {
    "id": "RBN2oZvnZ2as"
   },
   "outputs": [],
   "source": [
    "# splitting the dataset into training and validation part and normalizing them to 0 to 1\n",
    "X_valid, X_train = X_train_full[: 5000] / 255., X_train_full[5000: ]/255.\n",
    "y_valid, y_train = y_train_full[: 5000], y_train_full[5000:]\n",
    "\n",
    "X_test = X_test/255."
   ]
  },
  {
   "cell_type": "code",
   "execution_count": null,
   "metadata": {
    "colab": {
     "base_uri": "https://localhost:8080/",
     "height": 248
    },
    "id": "bK2r0JgHZ2dk",
    "outputId": "e37ff724-0a48-426a-ae04-826a4c70ec2c"
   },
   "outputs": [
    {
     "data": {
      "image/png": "[encoded data removed]",
      "text/plain": [
       "<Figure size 432x288 with 1 Axes>"
      ]
     },
     "metadata": {
      "needs_background": "light"
     },
     "output_type": "display_data"
    }
   ],
   "source": [
    "# Ploting the first data in X_train\n",
    "plt.imshow(X_train[0], cmap=\"binary\")\n",
    "plt.axis(\"off\")\n",
    "plt.show()"
   ]
  },
  {
   "cell_type": "code",
   "execution_count": null,
   "metadata": {
    "colab": {
     "base_uri": "https://localhost:8080/"
    },
    "id": "RD9_Fn_cgQS2",
    "outputId": "d3ab3ec6-5652-4573-9c38-ddb0767a32b8"
   },
   "outputs": [
    {
     "data": {
      "text/plain": [
       "7"
      ]
     },
     "execution_count": 10,
     "metadata": {},
     "output_type": "execute_result"
    }
   ],
   "source": [
    "# Checking what its label\n",
    "y_train[0]"
   ]
  },
  {
   "cell_type": "code",
   "execution_count": null,
   "metadata": {
    "colab": {
     "base_uri": "https://localhost:8080/",
     "height": 609
    },
    "id": "dVMNQ0j7gjZZ",
    "outputId": "ead2d51f-4ab8-4169-80f5-feab0b628fb6"
   },
   "outputs": [
    {
     "data": {
      "text/plain": [
       "<matplotlib.axes._subplots.AxesSubplot at 0x7fd347ddf580>"
      ]
     },
     "execution_count": 11,
     "metadata": {},
     "output_type": "execute_result"
    },
    {
     "data": {
      "image/png": "[encoded data removed]",
      "text/plain": [
       "<Figure size 1440x720 with 2 Axes>"
      ]
     },
     "metadata": {
      "needs_background": "light"
     },
     "output_type": "display_data"
    }
   ],
   "source": [
    "# Checking the heatmap also\n",
    "import seaborn as sns\n",
    "plt.figure(figsize=(20,10))\n",
    "sns.heatmap(X_train[0], annot=True, cmap=\"binary\")"
   ]
  },
  {
   "cell_type": "markdown",
   "metadata": {
    "id": "60DQxXa0hvBw"
   },
   "source": [
    "### **Observations**\n",
    "* Where ever White is there it is giving 0 and for black it is giving 0.99 clsoe to 1 and for grey  some middle values. "
   ]
  },
  {
   "cell_type": "markdown",
   "metadata": {
    "id": "RI5s-n9ZJxXm"
   },
   "source": [
    "# **LAYERS**\n",
    "* Sequential layer:- It means the entire neural network as a block or sequence and can do forward and backword propogation\n",
    "* Dense layer:- It is used to create neurons in the hidden layers, Input layers, Output layers\n",
    "* Activation functions LeakyReLU, PReLU, ELU, ReLU :-  we are using activitation function in the hidden layer\n",
    "* Dropout layer :- It is just like a regularization when we use it the neurons go dead or removed"
   ]
  },
  {
   "cell_type": "code",
   "execution_count": null,
   "metadata": {
    "id": "c9GqmZDyhb1p"
   },
   "outputs": [],
   "source": [
    "# Creating the layers\n",
    "LAYERS = [\n",
    "          tf.keras.layers.Flatten(input_shape=[28,28], name=\"inputLayer\"),\n",
    "          tf.keras.layers.Dense(300, activation=\"relu\", name=\"hiddenLayer1\"),\n",
    "          tf.keras.layers.Dense(100, activation=\"relu\", name=\"hiddenLayer2\"),\n",
    "          tf.keras.layers.Dense(10, activation=\"softmax\", name=\"outputLayer\")\n",
    "]"
   ]
  },
  {
   "cell_type": "code",
   "execution_count": null,
   "metadata": {
    "id": "rnYe1Q3AK6mg"
   },
   "outputs": [],
   "source": [
    "# Creating the model\n",
    "model = tf.keras.models.Sequential(LAYERS)"
   ]
  },
  {
   "cell_type": "code",
   "execution_count": null,
   "metadata": {
    "colab": {
     "base_uri": "https://localhost:8080/"
    },
    "id": "9uev9FirLH9K",
    "outputId": "d36030e8-5af3-4912-8bfb-72773372909c"
   },
   "outputs": [
    {
     "data": {
      "text/plain": [
       "[<keras.layers.reshaping.flatten.Flatten at 0x7fd344fb3f40>,\n",
       " <keras.layers.core.dense.Dense at 0x7fd344fb70d0>,\n",
       " <keras.layers.core.dense.Dense at 0x7fd344fb7400>,\n",
       " <keras.layers.core.dense.Dense at 0x7fd344fb7520>]"
      ]
     },
     "execution_count": 14,
     "metadata": {},
     "output_type": "execute_result"
    }
   ],
   "source": [
    "model.layers"
   ]
  },
  {
   "cell_type": "code",
   "execution_count": null,
   "metadata": {
    "colab": {
     "base_uri": "https://localhost:8080/"
    },
    "id": "62vjE0T9LNq1",
    "outputId": "0abaf4d3-67fd-4cb3-c411-b3ee307c9d69"
   },
   "outputs": [
    {
     "name": "stdout",
     "output_type": "stream",
     "text": [
      "Model: \"sequential\"\n",
      "_________________________________________________________________\n",
      " Layer (type)                Output Shape              Param #   \n",
      "=================================================================\n",
      " inputLayer (Flatten)        (None, 784)               0         \n",
      "                                                                 \n",
      " hiddenLayer1 (Dense)        (None, 300)               235500    \n",
      "                                                                 \n",
      " hiddenLayer2 (Dense)        (None, 100)               30100     \n",
      "                                                                 \n",
      " outputLayer (Dense)         (None, 10)                1010      \n",
      "                                                                 \n",
      "=================================================================\n",
      "Total params: 266,610\n",
      "Trainable params: 266,610\n",
      "Non-trainable params: 0\n",
      "_________________________________________________________________\n"
     ]
    }
   ],
   "source": [
    "model.summary()"
   ]
  },
  {
   "cell_type": "code",
   "execution_count": null,
   "metadata": {
    "colab": {
     "base_uri": "https://localhost:8080/"
    },
    "id": "5iQaw9d3LT47",
    "outputId": "fa020866-eefb-4442-ddcb-dea7c76d268d"
   },
   "outputs": [
    {
     "data": {
      "text/plain": [
       "<keras.layers.core.dense.Dense at 0x7fd344fb70d0>"
      ]
     },
     "execution_count": 16,
     "metadata": {},
     "output_type": "execute_result"
    }
   ],
   "source": [
    "hl1 = model.layers[1]\n",
    "model.get_layer(hl1.name)"
   ]
  },
  {
   "cell_type": "code",
   "execution_count": null,
   "metadata": {
    "id": "SDEkNoPcMqTu"
   },
   "outputs": [],
   "source": [
    "weights, bias = hl1.get_weights()"
   ]
  },
  {
   "cell_type": "code",
   "execution_count": null,
   "metadata": {
    "colab": {
     "base_uri": "https://localhost:8080/"
    },
    "id": "7yFSseJZNAyj",
    "outputId": "faa306ad-550e-4151-e526-ab7a4b733e43"
   },
   "outputs": [
    {
     "data": {
      "text/plain": [
       "(784, 300)"
      ]
     },
     "execution_count": 18,
     "metadata": {},
     "output_type": "execute_result"
    }
   ],
   "source": [
    "weights.shape"
   ]
  },
  {
   "cell_type": "code",
   "execution_count": null,
   "metadata": {
    "colab": {
     "base_uri": "https://localhost:8080/"
    },
    "id": "uZihvfdwNl5a",
    "outputId": "5fc3b17e-520a-4d1d-c064-942a7d6497aa"
   },
   "outputs": [
    {
     "data": {
      "text/plain": [
       "(300,)"
      ]
     },
     "execution_count": 19,
     "metadata": {},
     "output_type": "execute_result"
    }
   ],
   "source": [
    "bias.shape"
   ]
  },
  {
   "cell_type": "markdown",
   "metadata": {
    "id": "nzz78YvrO937"
   },
   "source": [
    "## **Cost / Loss Function**\n",
    "* Sparse Categorical Crossentropy:- This loss function is used to get One single Output with highest value (It ignores other output).\n",
    "\n",
    "## **Optimizer**\n",
    "* SGD (Stochastic Gradient Descent) :- It takes only one row as a input and updates the weights."
   ]
  },
  {
   "cell_type": "code",
   "execution_count": null,
   "metadata": {
    "id": "lxMuf5ONNmnD"
   },
   "outputs": [],
   "source": [
    "LOSS_FUNCTION = \"sparse_categorical_crossentropy\"\n",
    "OPTIMIZER = \"SGD\"\n",
    "METRICS = [\"accuracy\"]"
   ]
  },
  {
   "cell_type": "code",
   "execution_count": null,
   "metadata": {
    "id": "6hBVk7Z6PnhP"
   },
   "outputs": [],
   "source": [
    "model.compile(loss=LOSS_FUNCTION, optimizer=OPTIMIZER, metrics=METRICS)"
   ]
  },
  {
   "cell_type": "markdown",
   "metadata": {
    "id": "_OUvNLAkRm28"
   },
   "source": [
    "### Important -\n",
    "\n",
    "* **Epochs**: Integer. \n",
    "    \n",
    "    Number of epochs to train the model. An epoch is an iteration over the entire x and y data provided. \n",
    "\n",
    "* **batch_size**: Integer or None. \n",
    "    \n",
    "    Number of samples per gradient update. If unspecified, batch_size will default to 32. \n",
    "    \n",
    "    *NOTE:* Do not specify the batch_size if your data is in the form of datasets, generators, or keras.utils.Sequence instances (since they generate batches).\n",
    "\n",
    "* **validation_batch_size**: Integer or None. \n",
    "\n",
    "    Number of samples per validation batch. \n",
    "    \n",
    "    If unspecified, will default to batch_size. \n",
    "    \n",
    "    *NOTE:* Do not specify the validation_batch_size if your data is in the form of datasets, generators, or keras.utils.Sequence instances (since they generate batches).\n",
    "\n",
    "[Reference](https://www.tensorflow.org/api_docs/python/tf/keras/Model?hl=zh-tw#fit)"
   ]
  },
  {
   "cell_type": "code",
   "execution_count": null,
   "metadata": {
    "colab": {
     "base_uri": "https://localhost:8080/"
    },
    "id": "EJB3WSS1Qmk3",
    "outputId": "8bd45b4c-e587-4b4a-a78c-5d120c246367"
   },
   "outputs": [
    {
     "name": "stdout",
     "output_type": "stream",
     "text": [
      "Epoch 1/30\n",
      "1719/1719 [==============================] - 13s 7ms/step - loss: 0.5942 - accuracy: 0.8475 - val_loss: 0.3001 - val_accuracy: 0.9160\n",
      "Epoch 2/30\n",
      "1719/1719 [==============================] - 12s 7ms/step - loss: 0.2860 - accuracy: 0.9180 - val_loss: 0.2341 - val_accuracy: 0.9336\n",
      "Epoch 3/30\n",
      "1719/1719 [==============================] - 6s 4ms/step - loss: 0.2330 - accuracy: 0.9338 - val_loss: 0.2028 - val_accuracy: 0.9420\n",
      "Epoch 4/30\n",
      "1719/1719 [==============================] - 5s 3ms/step - loss: 0.1989 - accuracy: 0.9431 - val_loss: 0.1724 - val_accuracy: 0.9512\n",
      "Epoch 5/30\n",
      "1719/1719 [==============================] - 5s 3ms/step - loss: 0.1729 - accuracy: 0.9503 - val_loss: 0.1584 - val_accuracy: 0.9552\n",
      "Epoch 6/30\n",
      "1719/1719 [==============================] - 5s 3ms/step - loss: 0.1531 - accuracy: 0.9558 - val_loss: 0.1401 - val_accuracy: 0.9608\n",
      "Epoch 7/30\n",
      "1719/1719 [==============================] - 5s 3ms/step - loss: 0.1373 - accuracy: 0.9609 - val_loss: 0.1285 - val_accuracy: 0.9654\n",
      "Epoch 8/30\n",
      "1719/1719 [==============================] - 5s 3ms/step - loss: 0.1243 - accuracy: 0.9648 - val_loss: 0.1195 - val_accuracy: 0.9682\n",
      "Epoch 9/30\n",
      "1719/1719 [==============================] - 5s 3ms/step - loss: 0.1125 - accuracy: 0.9676 - val_loss: 0.1160 - val_accuracy: 0.9680\n",
      "Epoch 10/30\n",
      "1719/1719 [==============================] - 5s 3ms/step - loss: 0.1035 - accuracy: 0.9702 - val_loss: 0.1061 - val_accuracy: 0.9710\n",
      "Epoch 11/30\n",
      "1719/1719 [==============================] - 5s 3ms/step - loss: 0.0950 - accuracy: 0.9727 - val_loss: 0.1011 - val_accuracy: 0.9724\n",
      "Epoch 12/30\n",
      "1719/1719 [==============================] - 5s 3ms/step - loss: 0.0879 - accuracy: 0.9750 - val_loss: 0.0960 - val_accuracy: 0.9726\n",
      "Epoch 13/30\n",
      "1719/1719 [==============================] - 5s 3ms/step - loss: 0.0817 - accuracy: 0.9769 - val_loss: 0.0894 - val_accuracy: 0.9752\n",
      "Epoch 14/30\n",
      "1719/1719 [==============================] - 5s 3ms/step - loss: 0.0759 - accuracy: 0.9785 - val_loss: 0.0878 - val_accuracy: 0.9750\n",
      "Epoch 15/30\n",
      "1719/1719 [==============================] - 5s 3ms/step - loss: 0.0708 - accuracy: 0.9804 - val_loss: 0.0866 - val_accuracy: 0.9742\n",
      "Epoch 16/30\n",
      "1719/1719 [==============================] - 6s 3ms/step - loss: 0.0661 - accuracy: 0.9816 - val_loss: 0.0849 - val_accuracy: 0.9752\n",
      "Epoch 17/30\n",
      "1719/1719 [==============================] - 5s 3ms/step - loss: 0.0619 - accuracy: 0.9825 - val_loss: 0.0808 - val_accuracy: 0.9768\n",
      "Epoch 18/30\n",
      "1719/1719 [==============================] - 5s 3ms/step - loss: 0.0583 - accuracy: 0.9839 - val_loss: 0.0772 - val_accuracy: 0.9780\n",
      "Epoch 19/30\n",
      "1719/1719 [==============================] - 5s 3ms/step - loss: 0.0546 - accuracy: 0.9853 - val_loss: 0.0780 - val_accuracy: 0.9760\n",
      "Epoch 20/30\n",
      "1719/1719 [==============================] - 5s 3ms/step - loss: 0.0510 - accuracy: 0.9868 - val_loss: 0.0749 - val_accuracy: 0.9778\n",
      "Epoch 21/30\n",
      "1719/1719 [==============================] - 11s 6ms/step - loss: 0.0483 - accuracy: 0.9876 - val_loss: 0.0737 - val_accuracy: 0.9784\n",
      "Epoch 22/30\n",
      "1719/1719 [==============================] - 10s 6ms/step - loss: 0.0451 - accuracy: 0.9875 - val_loss: 0.0743 - val_accuracy: 0.9768\n",
      "Epoch 23/30\n",
      "1719/1719 [==============================] - 5s 3ms/step - loss: 0.0425 - accuracy: 0.9890 - val_loss: 0.0711 - val_accuracy: 0.9796\n",
      "Epoch 24/30\n",
      "1719/1719 [==============================] - 5s 3ms/step - loss: 0.0402 - accuracy: 0.9901 - val_loss: 0.0698 - val_accuracy: 0.9790\n",
      "Epoch 25/30\n",
      "1719/1719 [==============================] - 5s 3ms/step - loss: 0.0377 - accuracy: 0.9907 - val_loss: 0.0704 - val_accuracy: 0.9794\n",
      "Epoch 26/30\n",
      "1719/1719 [==============================] - 5s 3ms/step - loss: 0.0358 - accuracy: 0.9909 - val_loss: 0.0686 - val_accuracy: 0.9794\n",
      "Epoch 27/30\n",
      "1719/1719 [==============================] - 6s 3ms/step - loss: 0.0338 - accuracy: 0.9917 - val_loss: 0.0679 - val_accuracy: 0.9804\n",
      "Epoch 28/30\n",
      "1719/1719 [==============================] - 5s 3ms/step - loss: 0.0319 - accuracy: 0.9924 - val_loss: 0.0679 - val_accuracy: 0.9816\n",
      "Epoch 29/30\n",
      "1719/1719 [==============================] - 5s 3ms/step - loss: 0.0300 - accuracy: 0.9930 - val_loss: 0.0659 - val_accuracy: 0.9812\n",
      "Epoch 30/30\n",
      "1719/1719 [==============================] - 5s 3ms/step - loss: 0.0284 - accuracy: 0.9933 - val_loss: 0.0670 - val_accuracy: 0.9810\n"
     ]
    }
   ],
   "source": [
    "EPOCHS = 30\n",
    "VALIDATION_SET = (X_valid, y_valid)\n",
    "history = model.fit(X_train, y_train, epochs=EPOCHS, validation_data=VALIDATION_SET, batch_size=32)"
   ]
  },
  {
   "cell_type": "code",
   "execution_count": null,
   "metadata": {
    "colab": {
     "base_uri": "https://localhost:8080/"
    },
    "id": "TOOylwGZWBM5",
    "outputId": "8b4c9918-9ff5-4ecc-8658-a701dfcc49e8"
   },
   "outputs": [
    {
     "name": "stdout",
     "output_type": "stream",
     "text": [
      "313/313 [==============================] - 1s 2ms/step - loss: 0.0703 - accuracy: 0.9790\n"
     ]
    },
    {
     "data": {
      "text/plain": [
       "[0.07034800946712494, 0.9789999723434448]"
      ]
     },
     "execution_count": 23,
     "metadata": {},
     "output_type": "execute_result"
    }
   ],
   "source": [
    "# Evaluatimg the model\n",
    "model.evaluate(X_test, y_test)"
   ]
  },
  {
   "cell_type": "code",
   "execution_count": null,
   "metadata": {
    "id": "wEoQnX85XG4k"
   },
   "outputs": [],
   "source": [
    "# To savle the keras model we use .h5 extension\n",
    "model.save(\"model.h5\")"
   ]
  },
  {
   "cell_type": "code",
   "execution_count": null,
   "metadata": {
    "id": "88PxxUeVXnSg"
   },
   "outputs": [],
   "source": [
    "# To load the model\n",
    "load_model = tf.keras.models.load_model(\"model.h5\")"
   ]
  },
  {
   "cell_type": "code",
   "execution_count": null,
   "metadata": {
    "colab": {
     "base_uri": "https://localhost:8080/"
    },
    "id": "fdkT5ZKvX9W5",
    "outputId": "9d9b67d2-73ac-4cb8-d6e0-203765f5149d"
   },
   "outputs": [
    {
     "name": "stdout",
     "output_type": "stream",
     "text": [
      "313/313 [==============================] - 1s 2ms/step - loss: 0.0703 - accuracy: 0.9790\n"
     ]
    },
    {
     "data": {
      "text/plain": [
       "[0.07034800946712494, 0.9789999723434448]"
      ]
     },
     "execution_count": 27,
     "metadata": {},
     "output_type": "execute_result"
    }
   ],
   "source": [
    "load_model.evaluate(X_test, y_test)"
   ]
  },
  {
   "cell_type": "code",
   "execution_count": null,
   "metadata": {
    "colab": {
     "base_uri": "https://localhost:8080/",
     "height": 324
    },
    "id": "fZ9vLa4WYEHq",
    "outputId": "d18bca74-7e8d-4cc6-ea8c-c78696a664cc"
   },
   "outputs": [
    {
     "data": {
      "image/png": "[encoded data removed]",
      "text/plain": [
       "<Figure size 720x360 with 1 Axes>"
      ]
     },
     "metadata": {
      "needs_background": "light"
     },
     "output_type": "display_data"
    }
   ],
   "source": [
    "pd.DataFrame(history.history).plot(figsize=(10,5))\n",
    "plt.grid(True)\n",
    "plt.gca().set_ylim(0,1)\n",
    "plt.show()"
   ]
  },
  {
   "cell_type": "code",
   "execution_count": null,
   "metadata": {
    "colab": {
     "base_uri": "https://localhost:8080/"
    },
    "id": "Nm0d6-SRYQ3C",
    "outputId": "d3352cfd-0cd9-4702-9eba-514557fbdc49"
   },
   "outputs": [
    {
     "name": "stdout",
     "output_type": "stream",
     "text": [
      "1/1 [==============================] - 0s 16ms/step\n"
     ]
    },
    {
     "data": {
      "text/plain": [
       "array([[0., 0., 0., 0., 0., 0., 0., 1., 0., 0.],\n",
       "       [0., 0., 1., 0., 0., 0., 0., 0., 0., 0.],\n",
       "       [0., 1., 0., 0., 0., 0., 0., 0., 0., 0.]], dtype=float32)"
      ]
     },
     "execution_count": 46,
     "metadata": {},
     "output_type": "execute_result"
    }
   ],
   "source": [
    "X_new = X_test[:3]\n",
    "y_new = y_test[:3]\n",
    "y_prob = model.predict(X_new)\n",
    "y_prob.round(2)"
   ]
  },
  {
   "cell_type": "code",
   "execution_count": null,
   "metadata": {
    "colab": {
     "base_uri": "https://localhost:8080/"
    },
    "id": "851WwbUnZepZ",
    "outputId": "77c7023b-50a7-4516-97e4-1aaeffe1eea9"
   },
   "outputs": [
    {
     "data": {
      "text/plain": [
       "(array([7, 2, 1]), array([7, 2, 1], dtype=uint8))"
      ]
     },
     "execution_count": 48,
     "metadata": {},
     "output_type": "execute_result"
    }
   ],
   "source": [
    "y_pred = np.argmax(y_prob, axis=1)\n",
    "y_pred, y_new"
   ]
  },
  {
   "cell_type": "code",
   "execution_count": null,
   "metadata": {
    "colab": {
     "base_uri": "https://localhost:8080/",
     "height": 810
    },
    "id": "9j8elwCtZ6ka",
    "outputId": "d18b1e4a-94aa-4f54-a6ab-d728fedbf7e9"
   },
   "outputs": [
    {
     "data": {
      "image/png": "[encoded data removed]",
      "text/plain": [
       "<Figure size 432x288 with 1 Axes>"
      ]
     },
     "metadata": {
      "needs_background": "light"
     },
     "output_type": "display_data"
    },
    {
     "name": "stdout",
     "output_type": "stream",
     "text": [
      "----------------------------------------\n"
     ]
    },
    {
     "data": {
      "image/png": "[encoded data removed]",
      "text/plain": [
       "<Figure size 432x288 with 1 Axes>"
      ]
     },
     "metadata": {
      "needs_background": "light"
     },
     "output_type": "display_data"
    },
    {
     "name": "stdout",
     "output_type": "stream",
     "text": [
      "----------------------------------------\n"
     ]
    },
    {
     "data": {
      "image/png": "[encoded data removed]",
      "text/plain": [
       "<Figure size 432x288 with 1 Axes>"
      ]
     },
     "metadata": {
      "needs_background": "light"
     },
     "output_type": "display_data"
    },
    {
     "name": "stdout",
     "output_type": "stream",
     "text": [
      "----------------------------------------\n"
     ]
    }
   ],
   "source": [
    "for data, pred, actual in zip(X_new, y_pred, y_new):\n",
    "    plt.imshow(data, cmap=\"binary\")\n",
    "    plt.title(f\"Predicted: {pred}, Actual: {actual}\")\n",
    "    plt.axis(\"off\")\n",
    "    plt.show()\n",
    "    print(\"--\"*20)"
   ]
  },
  {
   "cell_type": "code",
   "execution_count": null,
   "metadata": {
    "id": "LZWDe26ubHRP"
   },
   "outputs": [],
   "source": []
  }
 ],
 "metadata": {
  "accelerator": "GPU",
  "colab": {
   "collapsed_sections": [
    "Ij9GBE-EZsRb"
   ],
   "provenance": []
  },
  "gpuClass": "standard",
  "kernelspec": {
   "display_name": "Python 3 (ipykernel)",
   "language": "python",
   "name": "python3"
  },
  "language_info": {
   "codemirror_mode": {
    "name": "ipython",
    "version": 3
   },
   "file_extension": ".py",
   "mimetype": "text/x-python",
   "name": "python",
   "nbconvert_exporter": "python",
   "pygments_lexer": "ipython3",
   "version": "3.9.12"
  }
 },
 "nbformat": 4,
 "nbformat_minor": 1
}
