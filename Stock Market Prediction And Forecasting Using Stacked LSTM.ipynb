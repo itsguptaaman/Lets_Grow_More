{
 "cells": [
  {
   "cell_type": "markdown",
   "id": "36dabc88",
   "metadata": {},
   "source": [
    "### **Lets Grow more**\n",
    "### **Data Science Internship(JAN-2023)**\n",
    "### [Task: Stock Market Prediction And Forecasting Using Stacked LSTM](https://www.canva.com/design/DAEjrwWV35w/-gxHUkJMO1Zr4pYVVpOYcg/view?utm_content=DAEjrwWV35w&utm_campaign=designshare&utm_medium=link&utm_source=sharebutton#1)\n",
    "### **Aman Gupta**"
   ]
  },
  {
   "cell_type": "code",
   "execution_count": 1,
   "id": "2a247ca2",
   "metadata": {},
   "outputs": [],
   "source": [
    "#Importing the libraries\n",
    "import numpy as np\n",
    "import pandas as pd\n",
    "\n",
    "# For visualization\n",
    "import seaborn as sns\n",
    "import matplotlib.pyplot as plt\n",
    "\n",
    "#For creating LSTM model\n",
    "from tensorflow.keras.models import Sequential\n",
    "from tensorflow.keras.layers import Dense\n",
    "from tensorflow.keras.layers import LSTM\n",
    "import tensorflow as tf\n",
    "\n",
    "from sklearn.preprocessing import MinMaxScaler\n",
    "import math\n",
    "from sklearn.metrics import mean_squared_error\n",
    "from statsmodels.tsa.stattools import adfuller\n",
    "\n",
    "import warnings\n",
    "warnings.filterwarnings(\"ignore\")"
   ]
  },
  {
   "cell_type": "code",
   "execution_count": 2,
   "id": "57a52683",
   "metadata": {},
   "outputs": [],
   "source": [
    "#Reading the dataset\n",
    "df = pd.read_csv(\"https://raw.githubusercontent.com/mwitiderrick/stockprice/master/NSE-TATAGLOBAL.csv\")"
   ]
  },
  {
   "cell_type": "code",
   "execution_count": 3,
   "id": "53a5c338",
   "metadata": {},
   "outputs": [
    {
     "data": {
      "text/html": [
       "<div>\n",
       "<style scoped>\n",
       "    .dataframe tbody tr th:only-of-type {\n",
       "        vertical-align: middle;\n",
       "    }\n",
       "\n",
       "    .dataframe tbody tr th {\n",
       "        vertical-align: top;\n",
       "    }\n",
       "\n",
       "    .dataframe thead th {\n",
       "        text-align: right;\n",
       "    }\n",
       "</style>\n",
       "<table border=\"1\" class=\"dataframe\">\n",
       "  <thead>\n",
       "    <tr style=\"text-align: right;\">\n",
       "      <th></th>\n",
       "      <th>Date</th>\n",
       "      <th>Open</th>\n",
       "      <th>High</th>\n",
       "      <th>Low</th>\n",
       "      <th>Last</th>\n",
       "      <th>Close</th>\n",
       "      <th>Total Trade Quantity</th>\n",
       "      <th>Turnover (Lacs)</th>\n",
       "    </tr>\n",
       "  </thead>\n",
       "  <tbody>\n",
       "    <tr>\n",
       "      <th>1271</th>\n",
       "      <td>2013-08-05</td>\n",
       "      <td>149.8</td>\n",
       "      <td>149.80</td>\n",
       "      <td>142.10</td>\n",
       "      <td>143.45</td>\n",
       "      <td>142.80</td>\n",
       "      <td>1485475</td>\n",
       "      <td>2140.22</td>\n",
       "    </tr>\n",
       "    <tr>\n",
       "      <th>557</th>\n",
       "      <td>2016-06-30</td>\n",
       "      <td>130.5</td>\n",
       "      <td>131.95</td>\n",
       "      <td>129.45</td>\n",
       "      <td>131.60</td>\n",
       "      <td>131.20</td>\n",
       "      <td>2810587</td>\n",
       "      <td>3671.52</td>\n",
       "    </tr>\n",
       "    <tr>\n",
       "      <th>561</th>\n",
       "      <td>2016-06-24</td>\n",
       "      <td>120.5</td>\n",
       "      <td>124.85</td>\n",
       "      <td>117.10</td>\n",
       "      <td>123.40</td>\n",
       "      <td>124.25</td>\n",
       "      <td>3585896</td>\n",
       "      <td>4327.25</td>\n",
       "    </tr>\n",
       "    <tr>\n",
       "      <th>1667</th>\n",
       "      <td>2012-01-07</td>\n",
       "      <td>94.0</td>\n",
       "      <td>94.15</td>\n",
       "      <td>93.05</td>\n",
       "      <td>93.20</td>\n",
       "      <td>93.35</td>\n",
       "      <td>39610</td>\n",
       "      <td>37.04</td>\n",
       "    </tr>\n",
       "    <tr>\n",
       "      <th>1287</th>\n",
       "      <td>2013-07-12</td>\n",
       "      <td>148.0</td>\n",
       "      <td>149.45</td>\n",
       "      <td>145.55</td>\n",
       "      <td>148.00</td>\n",
       "      <td>147.60</td>\n",
       "      <td>1680043</td>\n",
       "      <td>2476.33</td>\n",
       "    </tr>\n",
       "  </tbody>\n",
       "</table>\n",
       "</div>"
      ],
      "text/plain": [
       "            Date   Open    High     Low    Last   Close  Total Trade Quantity  \\\n",
       "1271  2013-08-05  149.8  149.80  142.10  143.45  142.80               1485475   \n",
       "557   2016-06-30  130.5  131.95  129.45  131.60  131.20               2810587   \n",
       "561   2016-06-24  120.5  124.85  117.10  123.40  124.25               3585896   \n",
       "1667  2012-01-07   94.0   94.15   93.05   93.20   93.35                 39610   \n",
       "1287  2013-07-12  148.0  149.45  145.55  148.00  147.60               1680043   \n",
       "\n",
       "      Turnover (Lacs)  \n",
       "1271          2140.22  \n",
       "557           3671.52  \n",
       "561           4327.25  \n",
       "1667            37.04  \n",
       "1287          2476.33  "
      ]
     },
     "execution_count": 3,
     "metadata": {},
     "output_type": "execute_result"
    }
   ],
   "source": [
    "df.sample(5)"
   ]
  },
  {
   "cell_type": "code",
   "execution_count": 4,
   "id": "3da55b0d",
   "metadata": {},
   "outputs": [
    {
     "data": {
      "text/plain": [
       "Date                    0.0\n",
       "Open                    0.0\n",
       "High                    0.0\n",
       "Low                     0.0\n",
       "Last                    0.0\n",
       "Close                   0.0\n",
       "Total Trade Quantity    0.0\n",
       "Turnover (Lacs)         0.0\n",
       "dtype: float64"
      ]
     },
     "execution_count": 4,
     "metadata": {},
     "output_type": "execute_result"
    }
   ],
   "source": [
    "#Checking the null values\n",
    "df.isnull().mean()"
   ]
  },
  {
   "cell_type": "code",
   "execution_count": 5,
   "id": "1ff15465",
   "metadata": {},
   "outputs": [
    {
     "name": "stdout",
     "output_type": "stream",
     "text": [
      "<class 'pandas.core.frame.DataFrame'>\n",
      "RangeIndex: 2035 entries, 0 to 2034\n",
      "Data columns (total 8 columns):\n",
      " #   Column                Non-Null Count  Dtype  \n",
      "---  ------                --------------  -----  \n",
      " 0   Date                  2035 non-null   object \n",
      " 1   Open                  2035 non-null   float64\n",
      " 2   High                  2035 non-null   float64\n",
      " 3   Low                   2035 non-null   float64\n",
      " 4   Last                  2035 non-null   float64\n",
      " 5   Close                 2035 non-null   float64\n",
      " 6   Total Trade Quantity  2035 non-null   int64  \n",
      " 7   Turnover (Lacs)       2035 non-null   float64\n",
      "dtypes: float64(6), int64(1), object(1)\n",
      "memory usage: 127.3+ KB\n"
     ]
    }
   ],
   "source": [
    "# Checking the info\n",
    "df.info()"
   ]
  },
  {
   "cell_type": "markdown",
   "id": "3af8bc92",
   "metadata": {},
   "source": [
    "#### Observation :- Date is having an object data-type"
   ]
  },
  {
   "cell_type": "code",
   "execution_count": 6,
   "id": "bfdc1c63",
   "metadata": {},
   "outputs": [],
   "source": [
    "#Changing the datatype of Date\n",
    "# df=df[['Date','Close']]\n",
    "df.Date = pd.to_datetime(df.Date)"
   ]
  },
  {
   "cell_type": "code",
   "execution_count": 7,
   "id": "4266c749",
   "metadata": {},
   "outputs": [
    {
     "name": "stdout",
     "output_type": "stream",
     "text": [
      "<class 'pandas.core.frame.DataFrame'>\n",
      "RangeIndex: 2035 entries, 0 to 2034\n",
      "Data columns (total 8 columns):\n",
      " #   Column                Non-Null Count  Dtype         \n",
      "---  ------                --------------  -----         \n",
      " 0   Date                  2035 non-null   datetime64[ns]\n",
      " 1   Open                  2035 non-null   float64       \n",
      " 2   High                  2035 non-null   float64       \n",
      " 3   Low                   2035 non-null   float64       \n",
      " 4   Last                  2035 non-null   float64       \n",
      " 5   Close                 2035 non-null   float64       \n",
      " 6   Total Trade Quantity  2035 non-null   int64         \n",
      " 7   Turnover (Lacs)       2035 non-null   float64       \n",
      "dtypes: datetime64[ns](1), float64(6), int64(1)\n",
      "memory usage: 127.3 KB\n"
     ]
    }
   ],
   "source": [
    "df.info()"
   ]
  },
  {
   "cell_type": "code",
   "execution_count": 8,
   "id": "defc9b3b",
   "metadata": {},
   "outputs": [],
   "source": [
    "df1 = df.reset_index()['Close']"
   ]
  },
  {
   "cell_type": "code",
   "execution_count": 9,
   "id": "511c18d6",
   "metadata": {},
   "outputs": [
    {
     "data": {
      "text/plain": [
       "[<matplotlib.lines.Line2D at 0x14a57500430>]"
      ]
     },
     "execution_count": 9,
     "metadata": {},
     "output_type": "execute_result"
    },
    {
     "data": {
      "image/png": "[encoded data removed]",
      "text/plain": [
       "<Figure size 432x288 with 1 Axes>"
      ]
     },
     "metadata": {
      "needs_background": "light"
     },
     "output_type": "display_data"
    }
   ],
   "source": [
    "plt.plot(df1)"
   ]
  },
  {
   "cell_type": "markdown",
   "id": "d45298de",
   "metadata": {},
   "source": [
    "### Observation :- It is non stationary"
   ]
  },
  {
   "cell_type": "markdown",
   "id": "0a054a15",
   "metadata": {},
   "source": [
    "### Test for stationary\n",
    "\n",
    "* Since we are using LSTM model no need of stationary data.\n",
    "* If timeseries is done by arima model then need to make the data stationary, as here p value is less than 0.05 so reject the null hypothesis"
   ]
  },
  {
   "cell_type": "code",
   "execution_count": 10,
   "id": "60414ff9",
   "metadata": {},
   "outputs": [
    {
     "data": {
      "image/png": "[encoded data removed]",
      "text/plain": [
       "<Figure size 1296x576 with 1 Axes>"
      ]
     },
     "metadata": {
      "needs_background": "light"
     },
     "output_type": "display_data"
    },
    {
     "name": "stdout",
     "output_type": "stream",
     "text": [
      "Test Statistics             -1.738101\n",
      "p-value                      0.411596\n",
      "No of lags                  16.000000\n",
      "No of observation used    2018.000000\n",
      "critical value (1%)         -3.433595\n",
      "critical value (5%)         -2.862973\n",
      "critical value (10%)        -2.567533\n",
      "dtype: float64\n"
     ]
    }
   ],
   "source": [
    "def stationary_test(time_series):\n",
    "    try:\n",
    "        rolling_mean = time_series.rolling(12).mean()\n",
    "        rolling_std = time_series.rolling(12).std()\n",
    "\n",
    "        plt.figure(figsize=(18,8))\n",
    "        plt.grid('both')\n",
    "        plt.plot(time_series, color='blue', label='Orginal', linewidth=3)\n",
    "        plt.plot(rolling_mean, color='red', label='Rolling Mean', linewidth=3)\n",
    "        plt.plot(rolling_std, color='green', label='Rolling Std', linewidth=3)\n",
    "        plt.show()\n",
    "        \n",
    "        adft = adfuller(time_series, autolag='AIC')\n",
    "        output = pd.Series(adft[0:4], index=['Test Statistics', 'p-value', 'No of lags', 'No of observation used'])\n",
    "        \n",
    "        for key, values in adft[4].items():\n",
    "            output['critical value (%s)'%key]=values\n",
    "        \n",
    "        print(output)\n",
    "    \n",
    "    except Exception as e:\n",
    "        print(e)\n",
    "stationary_test(df1) "
   ]
  },
  {
   "cell_type": "code",
   "execution_count": 11,
   "id": "d561ef39",
   "metadata": {},
   "outputs": [],
   "source": [
    "#Lets scale the data by using Min Max scaler with the range of 0 to 1\n",
    "scaler = MinMaxScaler(feature_range=(0,1))\n",
    "\n",
    "# Since it contains the single feature,reshape it to have a 2 dim\n",
    "df1 = scaler.fit_transform(np.array(df1).reshape(-1,1)) "
   ]
  },
  {
   "cell_type": "code",
   "execution_count": 12,
   "id": "74121976",
   "metadata": {},
   "outputs": [
    {
     "data": {
      "text/plain": [
       "array([[0.62418301],\n",
       "       [0.62214052],\n",
       "       [0.62622549],\n",
       "       ...,\n",
       "       [0.1621732 ],\n",
       "       [0.16319444],\n",
       "       [0.16584967]])"
      ]
     },
     "execution_count": 12,
     "metadata": {},
     "output_type": "execute_result"
    }
   ],
   "source": [
    "df1"
   ]
  },
  {
   "cell_type": "code",
   "execution_count": 13,
   "id": "e3056ae8",
   "metadata": {},
   "outputs": [
    {
     "data": {
      "text/plain": [
       "2"
      ]
     },
     "execution_count": 13,
     "metadata": {},
     "output_type": "execute_result"
    }
   ],
   "source": [
    "#Converting the data from 1d to 2d\n",
    "df1.ndim"
   ]
  },
  {
   "cell_type": "code",
   "execution_count": 14,
   "id": "fef6ccda",
   "metadata": {},
   "outputs": [
    {
     "data": {
      "text/plain": [
       "(2035, 1)"
      ]
     },
     "execution_count": 14,
     "metadata": {},
     "output_type": "execute_result"
    }
   ],
   "source": [
    "df1.shape"
   ]
  },
  {
   "cell_type": "markdown",
   "id": "5aca589d",
   "metadata": {},
   "source": [
    "#### Since it is a time series problem we are making training and testing data by splitting in the 70:30 ratio"
   ]
  },
  {
   "cell_type": "code",
   "execution_count": 15,
   "id": "255c5914",
   "metadata": {},
   "outputs": [],
   "source": [
    "training_size = int(len(df) * 0.70)\n",
    "test_size = len(df) - training_size\n",
    "train_data, test_data = df[0:training_size], df[training_size:len(df)]"
   ]
  },
  {
   "cell_type": "code",
   "execution_count": 16,
   "id": "25f3d442",
   "metadata": {},
   "outputs": [],
   "source": [
    "train_data = df[0:training_size]"
   ]
  },
  {
   "cell_type": "code",
   "execution_count": 17,
   "id": "6c32005c",
   "metadata": {},
   "outputs": [
    {
     "data": {
      "text/html": [
       "<div>\n",
       "<style scoped>\n",
       "    .dataframe tbody tr th:only-of-type {\n",
       "        vertical-align: middle;\n",
       "    }\n",
       "\n",
       "    .dataframe tbody tr th {\n",
       "        vertical-align: top;\n",
       "    }\n",
       "\n",
       "    .dataframe thead th {\n",
       "        text-align: right;\n",
       "    }\n",
       "</style>\n",
       "<table border=\"1\" class=\"dataframe\">\n",
       "  <thead>\n",
       "    <tr style=\"text-align: right;\">\n",
       "      <th></th>\n",
       "      <th>Date</th>\n",
       "      <th>Open</th>\n",
       "      <th>High</th>\n",
       "      <th>Low</th>\n",
       "      <th>Last</th>\n",
       "      <th>Close</th>\n",
       "      <th>Total Trade Quantity</th>\n",
       "      <th>Turnover (Lacs)</th>\n",
       "    </tr>\n",
       "  </thead>\n",
       "  <tbody>\n",
       "    <tr>\n",
       "      <th>0</th>\n",
       "      <td>2018-09-28</td>\n",
       "      <td>234.05</td>\n",
       "      <td>235.95</td>\n",
       "      <td>230.20</td>\n",
       "      <td>233.50</td>\n",
       "      <td>233.75</td>\n",
       "      <td>3069914</td>\n",
       "      <td>7162.35</td>\n",
       "    </tr>\n",
       "    <tr>\n",
       "      <th>1</th>\n",
       "      <td>2018-09-27</td>\n",
       "      <td>234.55</td>\n",
       "      <td>236.80</td>\n",
       "      <td>231.10</td>\n",
       "      <td>233.80</td>\n",
       "      <td>233.25</td>\n",
       "      <td>5082859</td>\n",
       "      <td>11859.95</td>\n",
       "    </tr>\n",
       "    <tr>\n",
       "      <th>2</th>\n",
       "      <td>2018-09-26</td>\n",
       "      <td>240.00</td>\n",
       "      <td>240.00</td>\n",
       "      <td>232.50</td>\n",
       "      <td>235.00</td>\n",
       "      <td>234.25</td>\n",
       "      <td>2240909</td>\n",
       "      <td>5248.60</td>\n",
       "    </tr>\n",
       "    <tr>\n",
       "      <th>3</th>\n",
       "      <td>2018-09-25</td>\n",
       "      <td>233.30</td>\n",
       "      <td>236.75</td>\n",
       "      <td>232.00</td>\n",
       "      <td>236.25</td>\n",
       "      <td>236.10</td>\n",
       "      <td>2349368</td>\n",
       "      <td>5503.90</td>\n",
       "    </tr>\n",
       "    <tr>\n",
       "      <th>4</th>\n",
       "      <td>2018-09-24</td>\n",
       "      <td>233.55</td>\n",
       "      <td>239.20</td>\n",
       "      <td>230.75</td>\n",
       "      <td>234.00</td>\n",
       "      <td>233.30</td>\n",
       "      <td>3423509</td>\n",
       "      <td>7999.55</td>\n",
       "    </tr>\n",
       "    <tr>\n",
       "      <th>...</th>\n",
       "      <td>...</td>\n",
       "      <td>...</td>\n",
       "      <td>...</td>\n",
       "      <td>...</td>\n",
       "      <td>...</td>\n",
       "      <td>...</td>\n",
       "      <td>...</td>\n",
       "      <td>...</td>\n",
       "    </tr>\n",
       "    <tr>\n",
       "      <th>1419</th>\n",
       "      <td>2013-01-03</td>\n",
       "      <td>167.30</td>\n",
       "      <td>168.90</td>\n",
       "      <td>165.20</td>\n",
       "      <td>165.60</td>\n",
       "      <td>165.85</td>\n",
       "      <td>4841015</td>\n",
       "      <td>8085.96</td>\n",
       "    </tr>\n",
       "    <tr>\n",
       "      <th>1420</th>\n",
       "      <td>2013-01-02</td>\n",
       "      <td>161.50</td>\n",
       "      <td>167.30</td>\n",
       "      <td>161.30</td>\n",
       "      <td>167.05</td>\n",
       "      <td>166.65</td>\n",
       "      <td>7201391</td>\n",
       "      <td>11884.96</td>\n",
       "    </tr>\n",
       "    <tr>\n",
       "      <th>1421</th>\n",
       "      <td>2013-01-01</td>\n",
       "      <td>160.55</td>\n",
       "      <td>162.50</td>\n",
       "      <td>160.30</td>\n",
       "      <td>161.00</td>\n",
       "      <td>160.80</td>\n",
       "      <td>3237577</td>\n",
       "      <td>5226.72</td>\n",
       "    </tr>\n",
       "    <tr>\n",
       "      <th>1422</th>\n",
       "      <td>2012-12-31</td>\n",
       "      <td>160.50</td>\n",
       "      <td>161.75</td>\n",
       "      <td>159.55</td>\n",
       "      <td>159.90</td>\n",
       "      <td>159.95</td>\n",
       "      <td>1579057</td>\n",
       "      <td>2531.61</td>\n",
       "    </tr>\n",
       "    <tr>\n",
       "      <th>1423</th>\n",
       "      <td>2012-12-28</td>\n",
       "      <td>160.25</td>\n",
       "      <td>162.45</td>\n",
       "      <td>159.75</td>\n",
       "      <td>160.75</td>\n",
       "      <td>160.45</td>\n",
       "      <td>3540354</td>\n",
       "      <td>5691.06</td>\n",
       "    </tr>\n",
       "  </tbody>\n",
       "</table>\n",
       "<p>1424 rows × 8 columns</p>\n",
       "</div>"
      ],
      "text/plain": [
       "           Date    Open    High     Low    Last   Close  Total Trade Quantity  \\\n",
       "0    2018-09-28  234.05  235.95  230.20  233.50  233.75               3069914   \n",
       "1    2018-09-27  234.55  236.80  231.10  233.80  233.25               5082859   \n",
       "2    2018-09-26  240.00  240.00  232.50  235.00  234.25               2240909   \n",
       "3    2018-09-25  233.30  236.75  232.00  236.25  236.10               2349368   \n",
       "4    2018-09-24  233.55  239.20  230.75  234.00  233.30               3423509   \n",
       "...         ...     ...     ...     ...     ...     ...                   ...   \n",
       "1419 2013-01-03  167.30  168.90  165.20  165.60  165.85               4841015   \n",
       "1420 2013-01-02  161.50  167.30  161.30  167.05  166.65               7201391   \n",
       "1421 2013-01-01  160.55  162.50  160.30  161.00  160.80               3237577   \n",
       "1422 2012-12-31  160.50  161.75  159.55  159.90  159.95               1579057   \n",
       "1423 2012-12-28  160.25  162.45  159.75  160.75  160.45               3540354   \n",
       "\n",
       "      Turnover (Lacs)  \n",
       "0             7162.35  \n",
       "1            11859.95  \n",
       "2             5248.60  \n",
       "3             5503.90  \n",
       "4             7999.55  \n",
       "...               ...  \n",
       "1419          8085.96  \n",
       "1420         11884.96  \n",
       "1421          5226.72  \n",
       "1422          2531.61  \n",
       "1423          5691.06  \n",
       "\n",
       "[1424 rows x 8 columns]"
      ]
     },
     "execution_count": 17,
     "metadata": {},
     "output_type": "execute_result"
    }
   ],
   "source": [
    "train_data"
   ]
  },
  {
   "cell_type": "code",
   "execution_count": 18,
   "id": "715c5d36",
   "metadata": {},
   "outputs": [
    {
     "data": {
      "text/plain": [
       "(1424, 611)"
      ]
     },
     "execution_count": 18,
     "metadata": {},
     "output_type": "execute_result"
    }
   ],
   "source": [
    "training_size, test_size"
   ]
  },
  {
   "cell_type": "code",
   "execution_count": 19,
   "id": "e8d1bb3a",
   "metadata": {},
   "outputs": [],
   "source": [
    "#Over here we have created the x train dataset but its stored in list \n",
    "x=[]\n",
    "dataset = df1\n",
    "for i in range(len(dataset) - 100 - 1):\n",
    "    a = dataset[i:(i + 100), 0]\n",
    "    x.append(a)"
   ]
  },
  {
   "cell_type": "code",
   "execution_count": 20,
   "id": "1494c755",
   "metadata": {},
   "outputs": [],
   "source": [
    "# convert an array of values into a dataset matrix\n",
    "def create_dataset(dataset, time_step=1):\n",
    "    dataX, dataY = [], []\n",
    "    for i in range(len(dataset)-time_step-1):\n",
    "        a = dataset[i:(i + time_step), 0]  \n",
    "        dataX.append(a)\n",
    "        dataY.append(dataset[i + time_step, 0])\n",
    "    return np.array(dataX), np.array(dataY)"
   ]
  },
  {
   "cell_type": "code",
   "execution_count": 21,
   "id": "dfe71534",
   "metadata": {},
   "outputs": [],
   "source": [
    "time_step = 100\n",
    "X_train, y_train = create_dataset(df1, time_step)\n",
    "X_test, y_test = create_dataset(df1, time_step)"
   ]
  },
  {
   "cell_type": "code",
   "execution_count": 22,
   "id": "f5d0f973",
   "metadata": {},
   "outputs": [
    {
     "data": {
      "text/plain": [
       "(1934, 100, 1)"
      ]
     },
     "execution_count": 22,
     "metadata": {},
     "output_type": "execute_result"
    }
   ],
   "source": [
    "X_train.shape[0], X_test.shape[1], 1"
   ]
  },
  {
   "cell_type": "code",
   "execution_count": 23,
   "id": "b0370bc7",
   "metadata": {},
   "outputs": [],
   "source": [
    "# converting the array into 3d \n",
    "X_train = X_train.reshape(X_train.shape[0], X_train.shape[1], 1)\n",
    "X_test = X_test.reshape(X_test.shape[0], X_test.shape[1], 1)"
   ]
  },
  {
   "cell_type": "code",
   "execution_count": 24,
   "id": "0133dd66",
   "metadata": {},
   "outputs": [],
   "source": [
    "#Stacked LSTM with 3 sequential data and then dense\n",
    "model=Sequential()\n",
    "\n",
    "model.add(LSTM(50, return_sequences=True, input_shape=(100,1)))\n",
    "#return_sequences=it will output all the hidden states of each time steps.\n",
    "model.add(LSTM(50, return_sequences=True))\n",
    "#50 is nothing but neurons we are passing\n",
    "model.add(LSTM(50))\n",
    "model.add(Dense(1))\n",
    "\n",
    "model.compile(loss='mean_squared_error',optimizer='adam')#This adam optimize the value faster than other optimizer algorithm,its like gradient descent"
   ]
  },
  {
   "cell_type": "code",
   "execution_count": 25,
   "id": "6f437081",
   "metadata": {},
   "outputs": [
    {
     "name": "stdout",
     "output_type": "stream",
     "text": [
      "Model: \"sequential\"\n",
      "_________________________________________________________________\n",
      " Layer (type)                Output Shape              Param #   \n",
      "=================================================================\n",
      " lstm (LSTM)                 (None, 100, 50)           10400     \n",
      "                                                                 \n",
      " lstm_1 (LSTM)               (None, 100, 50)           20200     \n",
      "                                                                 \n",
      " lstm_2 (LSTM)               (None, 50)                20200     \n",
      "                                                                 \n",
      " dense (Dense)               (None, 1)                 51        \n",
      "                                                                 \n",
      "=================================================================\n",
      "Total params: 50,851\n",
      "Trainable params: 50,851\n",
      "Non-trainable params: 0\n",
      "_________________________________________________________________\n"
     ]
    }
   ],
   "source": [
    "model.summary()"
   ]
  },
  {
   "cell_type": "code",
   "execution_count": 26,
   "id": "ec41c458",
   "metadata": {},
   "outputs": [
    {
     "name": "stdout",
     "output_type": "stream",
     "text": [
      "Epoch 1/100\n",
      "31/31 [==============================] - 11s 179ms/step - loss: 0.0144 - val_loss: 0.0016\n",
      "Epoch 2/100\n",
      "31/31 [==============================] - 4s 142ms/step - loss: 0.0016 - val_loss: 0.0013\n",
      "Epoch 3/100\n",
      "31/31 [==============================] - 4s 142ms/step - loss: 0.0013 - val_loss: 0.0012\n",
      "Epoch 4/100\n",
      "31/31 [==============================] - 4s 143ms/step - loss: 0.0012 - val_loss: 0.0011\n",
      "Epoch 5/100\n",
      "31/31 [==============================] - 4s 143ms/step - loss: 0.0011 - val_loss: 0.0010\n",
      "Epoch 6/100\n",
      "31/31 [==============================] - 5s 147ms/step - loss: 0.0010 - val_loss: 9.1503e-04\n",
      "Epoch 7/100\n",
      "31/31 [==============================] - 5s 147ms/step - loss: 9.3348e-04 - val_loss: 8.8275e-04\n",
      "Epoch 8/100\n",
      "31/31 [==============================] - 5s 150ms/step - loss: 8.8848e-04 - val_loss: 9.2673e-04\n",
      "Epoch 9/100\n",
      "31/31 [==============================] - 4s 145ms/step - loss: 9.4634e-04 - val_loss: 8.2429e-04\n",
      "Epoch 10/100\n",
      "31/31 [==============================] - 5s 149ms/step - loss: 8.3038e-04 - val_loss: 9.2202e-04\n",
      "Epoch 11/100\n",
      "31/31 [==============================] - 5s 150ms/step - loss: 7.7832e-04 - val_loss: 7.1473e-04\n",
      "Epoch 12/100\n",
      "31/31 [==============================] - 5s 153ms/step - loss: 7.1947e-04 - val_loss: 9.3699e-04\n",
      "Epoch 13/100\n",
      "31/31 [==============================] - 5s 153ms/step - loss: 7.9492e-04 - val_loss: 9.1513e-04\n",
      "Epoch 14/100\n",
      "31/31 [==============================] - 5s 150ms/step - loss: 8.0569e-04 - val_loss: 6.4942e-04\n",
      "Epoch 15/100\n",
      "31/31 [==============================] - 5s 152ms/step - loss: 6.5106e-04 - val_loss: 8.1131e-04\n",
      "Epoch 16/100\n",
      "31/31 [==============================] - 5s 155ms/step - loss: 7.5277e-04 - val_loss: 9.7868e-04\n",
      "Epoch 17/100\n",
      "31/31 [==============================] - 5s 150ms/step - loss: 7.1143e-04 - val_loss: 6.3118e-04\n",
      "Epoch 18/100\n",
      "31/31 [==============================] - 5s 152ms/step - loss: 6.1860e-04 - val_loss: 5.9143e-04\n",
      "Epoch 19/100\n",
      "31/31 [==============================] - 4s 146ms/step - loss: 5.9032e-04 - val_loss: 6.6730e-04\n",
      "Epoch 20/100\n",
      "31/31 [==============================] - 5s 149ms/step - loss: 6.4772e-04 - val_loss: 5.6006e-04\n",
      "Epoch 21/100\n",
      "31/31 [==============================] - 5s 151ms/step - loss: 5.5789e-04 - val_loss: 5.2853e-04\n",
      "Epoch 22/100\n",
      "31/31 [==============================] - 5s 149ms/step - loss: 5.7846e-04 - val_loss: 6.9152e-04\n",
      "Epoch 23/100\n",
      "31/31 [==============================] - 5s 150ms/step - loss: 6.2124e-04 - val_loss: 5.8840e-04\n",
      "Epoch 24/100\n",
      "31/31 [==============================] - 4s 145ms/step - loss: 5.7903e-04 - val_loss: 5.6882e-04\n",
      "Epoch 25/100\n",
      "31/31 [==============================] - 5s 158ms/step - loss: 5.1206e-04 - val_loss: 4.9456e-04\n",
      "Epoch 26/100\n",
      "31/31 [==============================] - 5s 149ms/step - loss: 5.1551e-04 - val_loss: 5.2837e-04\n",
      "Epoch 27/100\n",
      "31/31 [==============================] - 5s 148ms/step - loss: 5.2229e-04 - val_loss: 4.5025e-04\n",
      "Epoch 28/100\n",
      "31/31 [==============================] - 5s 149ms/step - loss: 4.7039e-04 - val_loss: 4.5946e-04\n",
      "Epoch 29/100\n",
      "31/31 [==============================] - 5s 148ms/step - loss: 4.5244e-04 - val_loss: 5.1679e-04\n",
      "Epoch 30/100\n",
      "31/31 [==============================] - 5s 147ms/step - loss: 4.5419e-04 - val_loss: 4.1370e-04\n",
      "Epoch 31/100\n",
      "31/31 [==============================] - 5s 148ms/step - loss: 4.2409e-04 - val_loss: 4.1074e-04\n",
      "Epoch 32/100\n",
      "31/31 [==============================] - 5s 147ms/step - loss: 4.2427e-04 - val_loss: 3.8656e-04\n",
      "Epoch 33/100\n",
      "31/31 [==============================] - 5s 153ms/step - loss: 3.8557e-04 - val_loss: 3.7282e-04\n",
      "Epoch 34/100\n",
      "31/31 [==============================] - 5s 160ms/step - loss: 3.8262e-04 - val_loss: 3.5878e-04\n",
      "Epoch 35/100\n",
      "31/31 [==============================] - 5s 157ms/step - loss: 3.7797e-04 - val_loss: 3.9657e-04\n",
      "Epoch 36/100\n",
      "31/31 [==============================] - 5s 159ms/step - loss: 3.9644e-04 - val_loss: 5.0442e-04\n",
      "Epoch 37/100\n",
      "31/31 [==============================] - 5s 161ms/step - loss: 3.7278e-04 - val_loss: 4.8130e-04\n",
      "Epoch 38/100\n",
      "31/31 [==============================] - 5s 155ms/step - loss: 4.0094e-04 - val_loss: 3.1925e-04\n",
      "Epoch 39/100\n",
      "31/31 [==============================] - 5s 155ms/step - loss: 3.3304e-04 - val_loss: 3.1507e-04\n",
      "Epoch 40/100\n",
      "31/31 [==============================] - 5s 155ms/step - loss: 3.2798e-04 - val_loss: 3.0174e-04\n",
      "Epoch 41/100\n",
      "31/31 [==============================] - 5s 155ms/step - loss: 3.4152e-04 - val_loss: 3.4150e-04\n",
      "Epoch 42/100\n",
      "31/31 [==============================] - 5s 155ms/step - loss: 3.0409e-04 - val_loss: 4.3123e-04\n",
      "Epoch 43/100\n",
      "31/31 [==============================] - 5s 155ms/step - loss: 4.8872e-04 - val_loss: 3.3450e-04\n",
      "Epoch 44/100\n",
      "31/31 [==============================] - 5s 155ms/step - loss: 3.4848e-04 - val_loss: 4.3522e-04\n",
      "Epoch 45/100\n",
      "31/31 [==============================] - 5s 154ms/step - loss: 3.1006e-04 - val_loss: 2.9736e-04\n",
      "Epoch 46/100\n",
      "31/31 [==============================] - 5s 154ms/step - loss: 2.8199e-04 - val_loss: 2.6277e-04\n",
      "Epoch 47/100\n",
      "31/31 [==============================] - 5s 164ms/step - loss: 2.8921e-04 - val_loss: 2.8912e-04\n",
      "Epoch 48/100\n",
      "31/31 [==============================] - 5s 168ms/step - loss: 2.8011e-04 - val_loss: 3.1430e-04\n",
      "Epoch 49/100\n",
      "31/31 [==============================] - 5s 162ms/step - loss: 2.7197e-04 - val_loss: 2.8693e-04\n",
      "Epoch 50/100\n",
      "31/31 [==============================] - 5s 164ms/step - loss: 2.5901e-04 - val_loss: 2.6329e-04\n",
      "Epoch 51/100\n",
      "31/31 [==============================] - 5s 159ms/step - loss: 2.5671e-04 - val_loss: 2.2945e-04\n",
      "Epoch 52/100\n",
      "31/31 [==============================] - 5s 156ms/step - loss: 2.6652e-04 - val_loss: 3.1483e-04\n",
      "Epoch 53/100\n",
      "31/31 [==============================] - 5s 157ms/step - loss: 2.6715e-04 - val_loss: 2.8047e-04\n",
      "Epoch 54/100\n",
      "31/31 [==============================] - 5s 156ms/step - loss: 2.2849e-04 - val_loss: 2.2239e-04\n",
      "Epoch 55/100\n",
      "31/31 [==============================] - 5s 156ms/step - loss: 2.2632e-04 - val_loss: 2.2709e-04\n",
      "Epoch 56/100\n",
      "31/31 [==============================] - 5s 166ms/step - loss: 2.5241e-04 - val_loss: 3.0579e-04\n",
      "Epoch 57/100\n",
      "31/31 [==============================] - 5s 169ms/step - loss: 2.6978e-04 - val_loss: 2.1103e-04\n",
      "Epoch 58/100\n",
      "31/31 [==============================] - 5s 157ms/step - loss: 2.2093e-04 - val_loss: 2.2709e-04\n",
      "Epoch 59/100\n",
      "31/31 [==============================] - 5s 155ms/step - loss: 2.1325e-04 - val_loss: 2.0968e-04\n",
      "Epoch 60/100\n",
      "31/31 [==============================] - 5s 157ms/step - loss: 2.2890e-04 - val_loss: 2.1341e-04\n",
      "Epoch 61/100\n",
      "31/31 [==============================] - 5s 155ms/step - loss: 2.4063e-04 - val_loss: 2.0271e-04\n",
      "Epoch 62/100\n",
      "31/31 [==============================] - 5s 161ms/step - loss: 2.3396e-04 - val_loss: 2.3630e-04\n",
      "Epoch 63/100\n",
      "31/31 [==============================] - 5s 162ms/step - loss: 2.1590e-04 - val_loss: 1.9268e-04\n",
      "Epoch 64/100\n",
      "31/31 [==============================] - 5s 158ms/step - loss: 2.3447e-04 - val_loss: 2.3074e-04\n",
      "Epoch 65/100\n",
      "31/31 [==============================] - 5s 160ms/step - loss: 2.1599e-04 - val_loss: 2.0122e-04\n",
      "Epoch 66/100\n",
      "31/31 [==============================] - 5s 158ms/step - loss: 2.0836e-04 - val_loss: 2.1027e-04\n",
      "Epoch 67/100\n",
      "31/31 [==============================] - 5s 155ms/step - loss: 2.0792e-04 - val_loss: 1.9124e-04\n",
      "Epoch 68/100\n",
      "31/31 [==============================] - 5s 153ms/step - loss: 2.1840e-04 - val_loss: 1.9998e-04\n",
      "Epoch 69/100\n",
      "31/31 [==============================] - 5s 155ms/step - loss: 2.0135e-04 - val_loss: 1.8392e-04\n",
      "Epoch 70/100\n",
      "31/31 [==============================] - 5s 156ms/step - loss: 1.9987e-04 - val_loss: 2.0118e-04\n",
      "Epoch 71/100\n",
      "31/31 [==============================] - 5s 162ms/step - loss: 2.0820e-04 - val_loss: 1.8078e-04\n",
      "Epoch 72/100\n",
      "31/31 [==============================] - 5s 159ms/step - loss: 2.0987e-04 - val_loss: 2.6950e-04\n",
      "Epoch 73/100\n",
      "31/31 [==============================] - 5s 154ms/step - loss: 2.2945e-04 - val_loss: 1.9373e-04\n",
      "Epoch 74/100\n",
      "31/31 [==============================] - 5s 161ms/step - loss: 1.8966e-04 - val_loss: 1.9987e-04\n",
      "Epoch 75/100\n",
      "31/31 [==============================] - 5s 164ms/step - loss: 1.9316e-04 - val_loss: 1.7918e-04\n"
     ]
    },
    {
     "name": "stdout",
     "output_type": "stream",
     "text": [
      "Epoch 76/100\n",
      "31/31 [==============================] - 5s 157ms/step - loss: 2.1538e-04 - val_loss: 1.8506e-04\n",
      "Epoch 77/100\n",
      "31/31 [==============================] - 5s 162ms/step - loss: 2.0231e-04 - val_loss: 3.1037e-04\n",
      "Epoch 78/100\n",
      "31/31 [==============================] - 5s 159ms/step - loss: 2.3342e-04 - val_loss: 1.7926e-04\n",
      "Epoch 79/100\n",
      "31/31 [==============================] - 5s 162ms/step - loss: 2.0263e-04 - val_loss: 2.1710e-04\n",
      "Epoch 80/100\n",
      "31/31 [==============================] - 5s 155ms/step - loss: 2.0282e-04 - val_loss: 2.0488e-04\n",
      "Epoch 81/100\n",
      "31/31 [==============================] - 5s 155ms/step - loss: 2.2054e-04 - val_loss: 1.7490e-04\n",
      "Epoch 82/100\n",
      "31/31 [==============================] - 5s 155ms/step - loss: 1.8370e-04 - val_loss: 2.6310e-04\n",
      "Epoch 83/100\n",
      "31/31 [==============================] - 5s 155ms/step - loss: 2.0035e-04 - val_loss: 1.9203e-04\n",
      "Epoch 84/100\n",
      "31/31 [==============================] - 5s 154ms/step - loss: 1.8198e-04 - val_loss: 1.8407e-04\n",
      "Epoch 85/100\n",
      "31/31 [==============================] - 5s 158ms/step - loss: 1.8976e-04 - val_loss: 2.4362e-04\n",
      "Epoch 86/100\n",
      "31/31 [==============================] - 5s 153ms/step - loss: 1.9431e-04 - val_loss: 5.1514e-04\n",
      "Epoch 87/100\n",
      "31/31 [==============================] - 5s 154ms/step - loss: 2.4700e-04 - val_loss: 2.3727e-04\n",
      "Epoch 88/100\n",
      "31/31 [==============================] - 5s 161ms/step - loss: 2.1196e-04 - val_loss: 2.2020e-04\n",
      "Epoch 89/100\n",
      "31/31 [==============================] - 5s 166ms/step - loss: 1.8972e-04 - val_loss: 1.9482e-04\n",
      "Epoch 90/100\n",
      "31/31 [==============================] - 5s 161ms/step - loss: 1.9620e-04 - val_loss: 1.9934e-04\n",
      "Epoch 91/100\n",
      "31/31 [==============================] - 5s 164ms/step - loss: 1.9279e-04 - val_loss: 1.9729e-04\n",
      "Epoch 92/100\n",
      "31/31 [==============================] - 5s 161ms/step - loss: 2.1244e-04 - val_loss: 1.7399e-04\n",
      "Epoch 93/100\n",
      "31/31 [==============================] - 5s 157ms/step - loss: 2.2122e-04 - val_loss: 1.7706e-04\n",
      "Epoch 94/100\n",
      "31/31 [==============================] - 5s 162ms/step - loss: 1.8002e-04 - val_loss: 2.0443e-04\n",
      "Epoch 95/100\n",
      "31/31 [==============================] - 5s 159ms/step - loss: 2.0700e-04 - val_loss: 2.0217e-04\n",
      "Epoch 96/100\n",
      "31/31 [==============================] - 5s 163ms/step - loss: 1.9070e-04 - val_loss: 1.6463e-04\n",
      "Epoch 97/100\n",
      "31/31 [==============================] - 5s 158ms/step - loss: 1.8315e-04 - val_loss: 1.9357e-04\n",
      "Epoch 98/100\n",
      "31/31 [==============================] - 5s 158ms/step - loss: 2.1116e-04 - val_loss: 1.9160e-04\n",
      "Epoch 99/100\n",
      "31/31 [==============================] - 5s 156ms/step - loss: 1.7173e-04 - val_loss: 1.8048e-04\n",
      "Epoch 100/100\n",
      "31/31 [==============================] - 5s 157ms/step - loss: 1.8007e-04 - val_loss: 1.6339e-04\n"
     ]
    },
    {
     "data": {
      "text/plain": [
       "<keras.callbacks.History at 0x14a60b8bbb0>"
      ]
     },
     "execution_count": 26,
     "metadata": {},
     "output_type": "execute_result"
    }
   ],
   "source": [
    "model.fit(X_train, y_train, validation_data=(X_test, y_test), epochs=100, batch_size=64, verbose=1)"
   ]
  },
  {
   "cell_type": "code",
   "execution_count": 27,
   "id": "919d0a4a",
   "metadata": {},
   "outputs": [
    {
     "name": "stdout",
     "output_type": "stream",
     "text": [
      "61/61 [==============================] - 3s 24ms/step\n",
      "61/61 [==============================] - 2s 25ms/step\n"
     ]
    }
   ],
   "source": [
    "train_predict = model.predict(X_train)\n",
    "test_predict = model.predict(X_test)"
   ]
  },
  {
   "cell_type": "code",
   "execution_count": 28,
   "id": "8b3b387f",
   "metadata": {},
   "outputs": [],
   "source": [
    "train_predict = scaler.inverse_transform(train_predict)\n",
    "test_predict = scaler.inverse_transform(test_predict)"
   ]
  },
  {
   "cell_type": "code",
   "execution_count": 29,
   "id": "3568e288",
   "metadata": {},
   "outputs": [
    {
     "data": {
      "text/plain": [
       "150.12781086067312"
      ]
     },
     "execution_count": 29,
     "metadata": {},
     "output_type": "execute_result"
    }
   ],
   "source": [
    "math.sqrt(mean_squared_error(y_train, train_predict))"
   ]
  },
  {
   "cell_type": "code",
   "execution_count": 30,
   "id": "e4466530",
   "metadata": {},
   "outputs": [
    {
     "data": {
      "text/plain": [
       "150.12781086067312"
      ]
     },
     "execution_count": 30,
     "metadata": {},
     "output_type": "execute_result"
    }
   ],
   "source": [
    "math.sqrt(mean_squared_error(y_test, test_predict))"
   ]
  },
  {
   "cell_type": "code",
   "execution_count": 40,
   "id": "6408a44a",
   "metadata": {},
   "outputs": [
    {
     "data": {
      "text/plain": [
       "2135"
      ]
     },
     "execution_count": 40,
     "metadata": {},
     "output_type": "execute_result"
    }
   ],
   "source": [
    "len(train_predict) + (look_back*2) + 1"
   ]
  },
  {
   "cell_type": "code",
   "execution_count": 49,
   "id": "37b18630",
   "metadata": {},
   "outputs": [
    {
     "data": {
      "text/plain": [
       "1934"
      ]
     },
     "execution_count": 49,
     "metadata": {},
     "output_type": "execute_result"
    }
   ],
   "source": [
    "test_predict.shape[0]"
   ]
  },
  {
   "cell_type": "code",
   "execution_count": 52,
   "id": "f3728ad2",
   "metadata": {},
   "outputs": [
    {
     "data": {
      "text/plain": [
       "(1934, 1)"
      ]
     },
     "execution_count": 52,
     "metadata": {},
     "output_type": "execute_result"
    }
   ],
   "source": [
    "train_predict.shape"
   ]
  },
  {
   "cell_type": "code",
   "execution_count": 51,
   "id": "f6f5e872",
   "metadata": {},
   "outputs": [
    {
     "data": {
      "text/plain": [
       "(1934, 1)"
      ]
     },
     "execution_count": 51,
     "metadata": {},
     "output_type": "execute_result"
    }
   ],
   "source": [
    "trainPredictPlot[look_back:len(train_predict) + look_back, :].shape"
   ]
  },
  {
   "cell_type": "code",
   "execution_count": 54,
   "id": "013c23df",
   "metadata": {},
   "outputs": [
    {
     "data": {
      "text/plain": [
       "(1934, 1)"
      ]
     },
     "execution_count": 54,
     "metadata": {},
     "output_type": "execute_result"
    }
   ],
   "source": [
    "test_predict.shape"
   ]
  },
  {
   "cell_type": "code",
   "execution_count": 86,
   "id": "a6dd44af",
   "metadata": {},
   "outputs": [
    {
     "data": {
      "text/plain": [
       "(1934, 1)"
      ]
     },
     "execution_count": 86,
     "metadata": {},
     "output_type": "execute_result"
    }
   ],
   "source": [
    "testPredictPlot[look_back:len(train_predict) + look_back, :].shape"
   ]
  },
  {
   "cell_type": "code",
   "execution_count": 33,
   "id": "a7b1072b",
   "metadata": {},
   "outputs": [
    {
     "data": {
      "text/plain": [
       "array([[233.75],\n",
       "       [233.25],\n",
       "       [234.25],\n",
       "       ...,\n",
       "       [120.65],\n",
       "       [120.9 ],\n",
       "       [121.55]])"
      ]
     },
     "execution_count": 33,
     "metadata": {},
     "output_type": "execute_result"
    }
   ],
   "source": [
    "scaler.inverse_transform(df1)"
   ]
  },
  {
   "cell_type": "code",
   "execution_count": 41,
   "id": "aa4870e6",
   "metadata": {},
   "outputs": [],
   "source": [
    "trainPredictPlot[look_back:len(train_predict) + look_back, :] = train_predict"
   ]
  },
  {
   "cell_type": "code",
   "execution_count": 63,
   "id": "a9930016",
   "metadata": {},
   "outputs": [
    {
     "data": {
      "text/plain": [
       "2135"
      ]
     },
     "execution_count": 63,
     "metadata": {},
     "output_type": "execute_result"
    }
   ],
   "source": [
    "len(train_predict) + (look_back*2) + 1"
   ]
  },
  {
   "cell_type": "code",
   "execution_count": 85,
   "id": "98530f62",
   "metadata": {},
   "outputs": [
    {
     "data": {
      "text/plain": [
       "2034"
      ]
     },
     "execution_count": 85,
     "metadata": {},
     "output_type": "execute_result"
    }
   ],
   "source": [
    "len(df)-1"
   ]
  },
  {
   "cell_type": "code",
   "execution_count": 66,
   "id": "4a621b23",
   "metadata": {},
   "outputs": [],
   "source": [
    "testPredictPlot[:, :] = np.nan"
   ]
  },
  {
   "cell_type": "code",
   "execution_count": 91,
   "id": "dd5a75b3",
   "metadata": {},
   "outputs": [
    {
     "data": {
      "text/plain": [
       "array([], shape=(0, 1), dtype=float64)"
      ]
     },
     "execution_count": 91,
     "metadata": {},
     "output_type": "execute_result"
    }
   ],
   "source": [
    "testPredictPlot[len(train_predict) + (look_back * 2) + 1: len(df) - 1, :]"
   ]
  },
  {
   "cell_type": "code",
   "execution_count": 65,
   "id": "249fcf06",
   "metadata": {},
   "outputs": [
    {
     "data": {
      "text/plain": [
       "2034"
      ]
     },
     "execution_count": 65,
     "metadata": {},
     "output_type": "execute_result"
    }
   ],
   "source": [
    "len(df) - 1 "
   ]
  },
  {
   "cell_type": "code",
   "execution_count": 96,
   "id": "7bdeabd0",
   "metadata": {},
   "outputs": [
    {
     "ename": "ValueError",
     "evalue": "could not broadcast input array from shape (1934,1) into shape (0,1)",
     "output_type": "error",
     "traceback": [
      "\u001b[1;31m---------------------------------------------------------------------------\u001b[0m",
      "\u001b[1;31mValueError\u001b[0m                                Traceback (most recent call last)",
      "Input \u001b[1;32mIn [96]\u001b[0m, in \u001b[0;36m<cell line: 9>\u001b[1;34m()\u001b[0m\n\u001b[0;32m      7\u001b[0m testPredictPlot \u001b[38;5;241m=\u001b[39m np\u001b[38;5;241m.\u001b[39mempty_like(df1)\n\u001b[0;32m      8\u001b[0m testPredictPlot[:, :] \u001b[38;5;241m=\u001b[39m np\u001b[38;5;241m.\u001b[39mnan\n\u001b[1;32m----> 9\u001b[0m testPredictPlot[\u001b[38;5;28mlen\u001b[39m(train_predict) \u001b[38;5;241m+\u001b[39m (look_back \u001b[38;5;241m*\u001b[39m \u001b[38;5;241m2\u001b[39m) \u001b[38;5;241m+\u001b[39m \u001b[38;5;241m1\u001b[39m: \u001b[38;5;28mlen\u001b[39m(df) \u001b[38;5;241m-\u001b[39m \u001b[38;5;241m1\u001b[39m, :] \u001b[38;5;241m=\u001b[39m test_predict\n\u001b[0;32m     11\u001b[0m \u001b[38;5;66;03m# plot baseline and predictions\u001b[39;00m\n\u001b[0;32m     12\u001b[0m plt\u001b[38;5;241m.\u001b[39mplot(scaler\u001b[38;5;241m.\u001b[39minverse_transform(df1))\n",
      "\u001b[1;31mValueError\u001b[0m: could not broadcast input array from shape (1934,1) into shape (0,1)"
     ]
    }
   ],
   "source": [
    "look_back = 100\n",
    "trainPredictPlot = np.empty_like(df1)\n",
    "trainPredictPlot[:, :] = np.nan\n",
    "trainPredictPlot[look_back:len(train_predict) + look_back, :] = train_predict\n",
    "\n",
    "# shift test predictions for plotting\n",
    "testPredictPlot = np.empty_like(df1)\n",
    "testPredictPlot[:, :] = np.nan\n",
    "testPredictPlot[len(train_predict) + (look_back * 2) + 1: len(df) - 1, :] = test_predict\n",
    "\n",
    "# plot baseline and predictions\n",
    "plt.plot(scaler.inverse_transform(df1))\n",
    "plt.plot(trainPredictPlot)\n",
    "plt.plot(testPredictPlot)\n",
    "plt.show()"
   ]
  },
  {
   "cell_type": "code",
   "execution_count": 71,
   "id": "e9fbb884",
   "metadata": {},
   "outputs": [
    {
     "data": {
      "text/html": [
       "<div>\n",
       "<style scoped>\n",
       "    .dataframe tbody tr th:only-of-type {\n",
       "        vertical-align: middle;\n",
       "    }\n",
       "\n",
       "    .dataframe tbody tr th {\n",
       "        vertical-align: top;\n",
       "    }\n",
       "\n",
       "    .dataframe thead th {\n",
       "        text-align: right;\n",
       "    }\n",
       "</style>\n",
       "<table border=\"1\" class=\"dataframe\">\n",
       "  <thead>\n",
       "    <tr style=\"text-align: right;\">\n",
       "      <th></th>\n",
       "      <th>Date</th>\n",
       "      <th>Open</th>\n",
       "      <th>High</th>\n",
       "      <th>Low</th>\n",
       "      <th>Last</th>\n",
       "      <th>Close</th>\n",
       "      <th>Total Trade Quantity</th>\n",
       "      <th>Turnover (Lacs)</th>\n",
       "    </tr>\n",
       "  </thead>\n",
       "  <tbody>\n",
       "    <tr>\n",
       "      <th>1424</th>\n",
       "      <td>2012-12-27</td>\n",
       "      <td>160.40</td>\n",
       "      <td>162.50</td>\n",
       "      <td>159.00</td>\n",
       "      <td>159.55</td>\n",
       "      <td>159.65</td>\n",
       "      <td>5550194</td>\n",
       "      <td>8896.81</td>\n",
       "    </tr>\n",
       "    <tr>\n",
       "      <th>1425</th>\n",
       "      <td>2012-12-26</td>\n",
       "      <td>161.75</td>\n",
       "      <td>162.50</td>\n",
       "      <td>159.75</td>\n",
       "      <td>160.70</td>\n",
       "      <td>160.15</td>\n",
       "      <td>1645334</td>\n",
       "      <td>2651.56</td>\n",
       "    </tr>\n",
       "    <tr>\n",
       "      <th>1426</th>\n",
       "      <td>2012-12-24</td>\n",
       "      <td>161.70</td>\n",
       "      <td>162.60</td>\n",
       "      <td>160.00</td>\n",
       "      <td>160.20</td>\n",
       "      <td>160.65</td>\n",
       "      <td>1922825</td>\n",
       "      <td>3100.35</td>\n",
       "    </tr>\n",
       "    <tr>\n",
       "      <th>1427</th>\n",
       "      <td>2012-12-21</td>\n",
       "      <td>163.00</td>\n",
       "      <td>165.45</td>\n",
       "      <td>160.25</td>\n",
       "      <td>160.75</td>\n",
       "      <td>160.85</td>\n",
       "      <td>2415570</td>\n",
       "      <td>3934.04</td>\n",
       "    </tr>\n",
       "    <tr>\n",
       "      <th>1428</th>\n",
       "      <td>2012-12-20</td>\n",
       "      <td>165.00</td>\n",
       "      <td>165.35</td>\n",
       "      <td>162.30</td>\n",
       "      <td>163.15</td>\n",
       "      <td>162.95</td>\n",
       "      <td>1960923</td>\n",
       "      <td>3202.39</td>\n",
       "    </tr>\n",
       "    <tr>\n",
       "      <th>...</th>\n",
       "      <td>...</td>\n",
       "      <td>...</td>\n",
       "      <td>...</td>\n",
       "      <td>...</td>\n",
       "      <td>...</td>\n",
       "      <td>...</td>\n",
       "      <td>...</td>\n",
       "      <td>...</td>\n",
       "    </tr>\n",
       "    <tr>\n",
       "      <th>2030</th>\n",
       "      <td>2010-07-27</td>\n",
       "      <td>117.60</td>\n",
       "      <td>119.50</td>\n",
       "      <td>112.00</td>\n",
       "      <td>118.80</td>\n",
       "      <td>118.65</td>\n",
       "      <td>586100</td>\n",
       "      <td>694.98</td>\n",
       "    </tr>\n",
       "    <tr>\n",
       "      <th>2031</th>\n",
       "      <td>2010-07-26</td>\n",
       "      <td>120.10</td>\n",
       "      <td>121.00</td>\n",
       "      <td>117.10</td>\n",
       "      <td>117.10</td>\n",
       "      <td>117.60</td>\n",
       "      <td>658440</td>\n",
       "      <td>780.01</td>\n",
       "    </tr>\n",
       "    <tr>\n",
       "      <th>2032</th>\n",
       "      <td>2010-07-23</td>\n",
       "      <td>121.80</td>\n",
       "      <td>121.95</td>\n",
       "      <td>120.25</td>\n",
       "      <td>120.35</td>\n",
       "      <td>120.65</td>\n",
       "      <td>281312</td>\n",
       "      <td>340.31</td>\n",
       "    </tr>\n",
       "    <tr>\n",
       "      <th>2033</th>\n",
       "      <td>2010-07-22</td>\n",
       "      <td>120.30</td>\n",
       "      <td>122.00</td>\n",
       "      <td>120.25</td>\n",
       "      <td>120.75</td>\n",
       "      <td>120.90</td>\n",
       "      <td>293312</td>\n",
       "      <td>355.17</td>\n",
       "    </tr>\n",
       "    <tr>\n",
       "      <th>2034</th>\n",
       "      <td>2010-07-21</td>\n",
       "      <td>122.10</td>\n",
       "      <td>123.00</td>\n",
       "      <td>121.05</td>\n",
       "      <td>121.10</td>\n",
       "      <td>121.55</td>\n",
       "      <td>658666</td>\n",
       "      <td>803.56</td>\n",
       "    </tr>\n",
       "  </tbody>\n",
       "</table>\n",
       "<p>611 rows × 8 columns</p>\n",
       "</div>"
      ],
      "text/plain": [
       "           Date    Open    High     Low    Last   Close  Total Trade Quantity  \\\n",
       "1424 2012-12-27  160.40  162.50  159.00  159.55  159.65               5550194   \n",
       "1425 2012-12-26  161.75  162.50  159.75  160.70  160.15               1645334   \n",
       "1426 2012-12-24  161.70  162.60  160.00  160.20  160.65               1922825   \n",
       "1427 2012-12-21  163.00  165.45  160.25  160.75  160.85               2415570   \n",
       "1428 2012-12-20  165.00  165.35  162.30  163.15  162.95               1960923   \n",
       "...         ...     ...     ...     ...     ...     ...                   ...   \n",
       "2030 2010-07-27  117.60  119.50  112.00  118.80  118.65                586100   \n",
       "2031 2010-07-26  120.10  121.00  117.10  117.10  117.60                658440   \n",
       "2032 2010-07-23  121.80  121.95  120.25  120.35  120.65                281312   \n",
       "2033 2010-07-22  120.30  122.00  120.25  120.75  120.90                293312   \n",
       "2034 2010-07-21  122.10  123.00  121.05  121.10  121.55                658666   \n",
       "\n",
       "      Turnover (Lacs)  \n",
       "1424          8896.81  \n",
       "1425          2651.56  \n",
       "1426          3100.35  \n",
       "1427          3934.04  \n",
       "1428          3202.39  \n",
       "...               ...  \n",
       "2030           694.98  \n",
       "2031           780.01  \n",
       "2032           340.31  \n",
       "2033           355.17  \n",
       "2034           803.56  \n",
       "\n",
       "[611 rows x 8 columns]"
      ]
     },
     "execution_count": 71,
     "metadata": {},
     "output_type": "execute_result"
    }
   ],
   "source": [
    "test_data"
   ]
  },
  {
   "cell_type": "code",
   "execution_count": 78,
   "id": "551950db",
   "metadata": {},
   "outputs": [
    {
     "data": {
      "text/plain": [
       "(1, 800)"
      ]
     },
     "execution_count": 78,
     "metadata": {},
     "output_type": "execute_result"
    }
   ],
   "source": [
    "x_input = np.array(test_data[511:]).reshape(1,-1)\n",
    "x_input.shape"
   ]
  },
  {
   "cell_type": "code",
   "execution_count": 79,
   "id": "de4f8161",
   "metadata": {},
   "outputs": [],
   "source": [
    "temp_input = list(x_input)\n",
    "temp_input = temp_input[0].tolist()"
   ]
  },
  {
   "cell_type": "code",
   "execution_count": 92,
   "id": "091fd606",
   "metadata": {},
   "outputs": [
    {
     "name": "stdout",
     "output_type": "stream",
     "text": [
      "0 day input [115.9 110.2 111.4 111.5 1285356 1454.58 Timestamp('2010-12-08 00:00:00')\n",
      " 115.0 115.4 113.7 114.8 114.85 1032008 1181.91\n",
      " Timestamp('2010-12-07 00:00:00') 115.6 115.75 113.6 115.7 115.25 566010\n",
      " 649.53 Timestamp('2010-12-06 00:00:00') 113.2 115.65 113.2 114.75 114.95\n",
      " 1036023 1191.18 Timestamp('2010-12-03 00:00:00') 116.0 116.0 112.6 113.5\n",
      " 114.1 606153 692.32 Timestamp('2010-12-02 00:00:00') 115.9 117.5 114.35\n",
      " 115.55 115.25 887683 1026.67 Timestamp('2010-12-01 00:00:00') 113.5 116.0\n",
      " 113.0 114.5 114.75 628391 722.87 Timestamp('2010-11-30 00:00:00') 112.95\n",
      " 113.9 111.05 113.0 112.95 993783 1120.16 Timestamp('2010-11-29 00:00:00')\n",
      " 113.4 114.0 110.1 113.1 112.95 725219 814.61\n",
      " Timestamp('2010-11-26 00:00:00') 112.4 113.5 103.5 113.0 112.45 2279992\n",
      " 2520.35 Timestamp('2010-11-25 00:00:00') 118.5 118.5 107.25 111.5 109.95\n",
      " 2586020 2873.33 Timestamp('2010-11-24 00:00:00') 118.1 118.9 116.15 117.0\n",
      " 116.8 516440 609.14 Timestamp('2010-11-23 00:00:00') 116.1 119.7 114.1\n",
      " 117.25 117.2 1306073 1525.45 Timestamp('2010-11-22 00:00:00') 120.6 120.6\n",
      " 117.0 119.0 119.9 829435 987.14 Timestamp('2010-11-19 00:00:00') 119.8\n",
      " 125.1 115.1 115.1 120.1 3005760 3606.3 Timestamp('2010-11-18 00:00:00')\n",
      " 121.8 123.5 115.3 119.5 119.6 1214961 1448.5\n",
      " Timestamp('2010-11-16 00:00:00') 124.75 126.15 120.0 120.5 121.2 1118449\n",
      " 1363.63 Timestamp('2010-11-15 00:00:00') 125.85 126.0 123.1 125.0 124.75\n",
      " 490031 609.4 Timestamp('2010-11-12 00:00:00') 127.5 129.85 124.2 124.75\n",
      " 124.85 1155144 1465.67 Timestamp('2010-11-11 00:00:00') 132.7 134.0 127.3\n",
      " 128.3 128.1 1363674 1786.36 Timestamp('2010-11-10 00:00:00') 129.0 132.75\n",
      " 127.0 132.2 131.9 2011117 2637.2 Timestamp('2010-11-09 00:00:00') 125.75\n",
      " 128.25 124.15 127.7 127.4 1186665 1494.09\n",
      " Timestamp('2010-11-08 00:00:00') 126.0 126.9 124.5 125.2 125.15 1093519\n",
      " 1375.42 Timestamp('2010-11-05 00:00:00') 129.45 129.45 125.2 125.7 125.6\n",
      " 232370 291.93 Timestamp('2010-11-04 00:00:00') 124.7 125.8 123.1 124.35\n",
      " 124.3 722306 897.69 Timestamp('2010-11-03 00:00:00') 126.0 126.7 124.0\n",
      " 124.3 124.55 602987 754.43 Timestamp('2010-11-02 00:00:00') 125.5 126.2\n",
      " 124.55 125.2 125.15 573772 719.46 Timestamp('2010-11-01 00:00:00') 126.0\n",
      " 128.4 123.0 124.5 124.55 1621553 2044.44 Timestamp('2010-10-29 00:00:00')\n",
      " 127.65 128.0 120.5 124.1 124.65 2960093 3672.24\n",
      " Timestamp('2010-10-28 00:00:00') 128.9 130.0 127.3 129.6 128.95 1734169\n",
      " 2235.97 Timestamp('2010-10-27 00:00:00') 128.2 129.5 125.55 127.65 127.25\n",
      " 1116487 1423.6 Timestamp('2010-10-26 00:00:00') 129.2 129.6 126.7 126.9\n",
      " 127.35 756589 968.72 Timestamp('2010-10-25 00:00:00') 129.95 130.5 128.25\n",
      " 128.6 128.45 494115 637.58 Timestamp('2010-10-22 00:00:00') 132.0 132.0\n",
      " 128.05 129.2 128.55 1375503 1783.38 Timestamp('2010-10-21 00:00:00')\n",
      " 129.8 131.1 128.7 130.55 130.4 1293596 1675.9\n",
      " Timestamp('2010-10-20 00:00:00') 129.25 130.75 128.5 129.2 129.35 749862\n",
      " 972.64 Timestamp('2010-10-19 00:00:00') 131.5 132.85 128.15 130.0 129.75\n",
      " 916321 1196.98 Timestamp('2010-10-18 00:00:00') 130.1 131.0 126.35 129.95\n",
      " 129.6 1236535 1586.54 Timestamp('2010-10-15 00:00:00') 134.85 134.85\n",
      " 128.4 130.5 129.85 1040782 1373.76 Timestamp('2010-10-14 00:00:00')\n",
      " 134.25 137.0 131.05 133.2 133.05 1826325 2451.46\n",
      " Timestamp('2010-10-13 00:00:00') 131.9 134.4 131.35 133.8 133.75 880932\n",
      " 1175.14 Timestamp('2010-10-12 00:00:00') 134.5 135.75 130.0 131.2 131.0\n",
      " 1252217 1651.49 Timestamp('2010-10-11 00:00:00') 134.5 135.9 133.3 134.25\n",
      " 134.25 1052978 1417.54 Timestamp('2010-10-08 00:00:00') 134.75 135.95\n",
      " 131.1 133.1 132.6 1913647 2553.76 Timestamp('2010-10-07 00:00:00') 130.1\n",
      " 138.75 129.65 133.75 133.4 7163066 9645.18\n",
      " Timestamp('2010-10-06 00:00:00') 128.0 129.9 127.1 129.5 129.3 1598194\n",
      " 2058.5 Timestamp('2010-10-05 00:00:00') 125.0 127.9 123.2 127.5 127.0\n",
      " 1542220 1955.79 Timestamp('2010-10-04 00:00:00') 124.4 125.45 123.2 124.2\n",
      " 124.65 670447 833.6 Timestamp('2010-10-01 00:00:00') 121.3 124.0 121.3\n",
      " 123.6 123.5 711861 875.04 Timestamp('2010-09-30 00:00:00') 122.3 122.7\n",
      " 119.15 121.05 120.2 1240038 1495.4 Timestamp('2010-09-29 00:00:00') 123.3\n",
      " 124.75 121.2 121.25 121.5 984606 1206.81 Timestamp('2010-09-28 00:00:00')\n",
      " 124.6 125.75 122.05 123.1 122.85 799399 988.66\n",
      " Timestamp('2010-09-27 00:00:00') 126.35 126.9 123.15 123.55 123.6 1209662\n",
      " 1510.21 Timestamp('2010-09-24 00:00:00') 123.45 127.5 122.85 125.0 125.1\n",
      " 2458845 3091.76 Timestamp('2010-09-23 00:00:00') 121.6 124.25 119.9 123.6\n",
      " 123.55 1845230 2272.82 Timestamp('2010-09-22 00:00:00') 123.0 123.5 119.8\n",
      " 120.5 120.8 1032364 1256.14 Timestamp('2010-09-21 00:00:00') 124.55\n",
      " 125.65 121.05 122.5 122.5 1128334 1388.86\n",
      " Timestamp('2010-09-20 00:00:00') 122.5 124.95 122.0 124.8 124.55 1073215\n",
      " 1328.06 Timestamp('2010-09-17 00:00:00') 122.8 125.35 121.6 123.15 122.65\n",
      " 2098722 2583.19 Timestamp('2010-09-16 00:00:00') 124.0 125.0 121.5 122.4\n",
      " 122.15 1073175 1319.26 Timestamp('2010-09-15 00:00:00') 124.85 126.5\n",
      " 123.0 123.1 123.25 1111988 1383.3 Timestamp('2010-09-14 00:00:00') 126.15\n",
      " 128.2 123.5 123.9 123.9 1439867 1801.02 Timestamp('2010-09-13 00:00:00')\n",
      " 128.5 128.8 125.3 125.85 125.95 1180485 1493.73\n",
      " Timestamp('2010-09-09 00:00:00') 127.7 129.5 126.7 127.6 127.8 1599954\n",
      " 2048.51 Timestamp('2010-09-08 00:00:00') 128.0 129.8 125.1 126.55 127.25\n",
      " 2539739 3236.78 Timestamp('2010-09-07 00:00:00') 124.0 128.5 122.1 127.55\n",
      " 127.7 2683457 3382.09 Timestamp('2010-09-06 00:00:00') 123.25 124.65\n",
      " 122.8 123.5 123.15 626335 774.68 Timestamp('2010-09-03 00:00:00') 122.5\n",
      " 124.0 121.85 122.0 122.15 731590 899.03 Timestamp('2010-09-02 00:00:00')\n",
      " 124.2 124.55 122.0 122.45 122.4 716515 882.89\n",
      " Timestamp('2010-09-01 00:00:00') 121.65 123.65 120.2 122.7 123.0 2274887\n",
      " 2781.63 Timestamp('2010-08-31 00:00:00') 117.0 121.0 116.1 120.75 120.5\n",
      " 2110321 2518.67 Timestamp('2010-08-30 00:00:00') 118.8 119.7 116.7 117.9\n",
      " 117.6 463046 548.13 Timestamp('2010-08-27 00:00:00') 119.0 119.85 117.1\n",
      " 118.25 117.75 1375227 1635.69 Timestamp('2010-08-26 00:00:00') 118.2\n",
      " 119.35 116.6 118.0 118.15 2531255 2997.62\n",
      " Timestamp('2010-08-25 00:00:00') 116.0 118.7 115.4 117.0 117.0 1606579\n",
      " 1880.76 Timestamp('2010-08-24 00:00:00') 118.45 119.8 116.05 116.75\n",
      " 116.45 3422797 4032.37 Timestamp('2010-08-23 00:00:00') 114.0 118.25\n",
      " 112.0 116.65 116.7 4033916 4697.91 Timestamp('2010-08-20 00:00:00') 112.0\n",
      " 113.4 111.05 111.35 111.5 653286 732.65 Timestamp('2010-08-19 00:00:00')\n",
      " 110.0 114.35 108.5 113.35 113.05 1643818 1846.35\n",
      " Timestamp('2010-08-18 00:00:00') 110.15 111.2 108.1 108.5 108.85 959932\n",
      " 1052.23 Timestamp('2010-08-17 00:00:00') 111.9 112.4 109.7 110.2 110.1\n",
      " 1079479 1196.57 Timestamp('2010-08-16 00:00:00') 115.95 115.95 110.75\n",
      " 112.0 111.25 818831 919.52 Timestamp('2010-08-13 00:00:00') 113.4 116.0\n",
      " 112.6 114.1 114.15 755675 868.71 Timestamp('2010-08-12 00:00:00') 113.0\n",
      " 114.45 112.25 112.8 112.55 434265 492.18 Timestamp('2010-08-11 00:00:00')\n",
      " 113.75 115.5 112.0 113.9 113.9 1307966 1499.66\n",
      " Timestamp('2010-08-10 00:00:00') 112.9 114.3 111.55 112.05 112.3 327364\n",
      " 368.92 Timestamp('2010-08-09 00:00:00') 112.0 113.85 112.0 113.2 112.85\n",
      " 415026 468.6 Timestamp('2010-08-06 00:00:00') 114.1 114.9 111.75 112.2\n",
      " 112.1 547881 620.33 Timestamp('2010-08-05 00:00:00') 117.0 117.0 113.8\n",
      " 114.1 114.05 777490 893.61 Timestamp('2010-08-04 00:00:00') 118.5 119.0\n",
      " 116.1 116.65 116.5 1012396 1184.49 Timestamp('2010-08-03 00:00:00') 118.3\n",
      " 119.95 117.9 118.65 118.3 611234 726.78 Timestamp('2010-08-02 00:00:00')\n",
      " 117.3 118.5 116.6 118.1 117.3 663593 779.85\n",
      " Timestamp('2010-07-30 00:00:00') 116.5 118.0 114.6 115.85 116.05 2656191\n",
      " 3112.68 Timestamp('2010-07-29 00:00:00') 112.5 121.7 112.5 117.5 116.6\n",
      " 2359134 2791.03 Timestamp('2010-07-28 00:00:00') 118.0 120.5 117.2 118.15\n",
      " 118.25 835593 994.01 Timestamp('2010-07-27 00:00:00') 117.6 119.5 112.0\n",
      " 118.8 118.65 586100 694.98 Timestamp('2010-07-26 00:00:00') 120.1 121.0\n",
      " 117.1 117.1 117.6 658440 780.01 Timestamp('2010-07-23 00:00:00') 121.8\n",
      " 121.95 120.25 120.35 120.65 281312 340.31\n",
      " Timestamp('2010-07-22 00:00:00') 120.3 122.0 120.25 120.75 120.9 293312\n",
      " 355.17 Timestamp('2010-07-21 00:00:00') 122.1 123.0 121.05 121.1 121.55\n",
      " 658666 803.56]\n"
     ]
    },
    {
     "ename": "ValueError",
     "evalue": "cannot reshape array of size 798 into shape (1,100)",
     "output_type": "error",
     "traceback": [
      "\u001b[1;31m---------------------------------------------------------------------------\u001b[0m",
      "\u001b[1;31mValueError\u001b[0m                                Traceback (most recent call last)",
      "Input \u001b[1;32mIn [92]\u001b[0m, in \u001b[0;36m<cell line: 9>\u001b[1;34m()\u001b[0m\n\u001b[0;32m     13\u001b[0m \u001b[38;5;28mprint\u001b[39m(\u001b[38;5;124m\"\u001b[39m\u001b[38;5;132;01m{}\u001b[39;00m\u001b[38;5;124m day input \u001b[39m\u001b[38;5;132;01m{}\u001b[39;00m\u001b[38;5;124m\"\u001b[39m\u001b[38;5;241m.\u001b[39mformat(i,x_input))\n\u001b[0;32m     15\u001b[0m x_input\u001b[38;5;241m=\u001b[39mx_input\u001b[38;5;241m.\u001b[39mreshape(\u001b[38;5;241m1\u001b[39m,\u001b[38;5;241m-\u001b[39m\u001b[38;5;241m1\u001b[39m)\n\u001b[1;32m---> 16\u001b[0m x_input \u001b[38;5;241m=\u001b[39m \u001b[43mx_input\u001b[49m\u001b[38;5;241;43m.\u001b[39;49m\u001b[43mreshape\u001b[49m\u001b[43m(\u001b[49m\u001b[43m(\u001b[49m\u001b[38;5;241;43m1\u001b[39;49m\u001b[43m,\u001b[49m\u001b[43m \u001b[49m\u001b[43mn_steps\u001b[49m\u001b[43m)\u001b[49m\u001b[43m)\u001b[49m\n\u001b[0;32m     17\u001b[0m yhat \u001b[38;5;241m=\u001b[39m model\u001b[38;5;241m.\u001b[39mpredict(x_input, verbose\u001b[38;5;241m=\u001b[39m\u001b[38;5;241m0\u001b[39m)\n\u001b[0;32m     19\u001b[0m \u001b[38;5;28mprint\u001b[39m(\u001b[38;5;124m\"\u001b[39m\u001b[38;5;132;01m{}\u001b[39;00m\u001b[38;5;124m day output \u001b[39m\u001b[38;5;132;01m{}\u001b[39;00m\u001b[38;5;124m\"\u001b[39m\u001b[38;5;241m.\u001b[39mformat(i,yhat))\n",
      "\u001b[1;31mValueError\u001b[0m: cannot reshape array of size 798 into shape (1,100)"
     ]
    }
   ],
   "source": [
    "temp_input = list(x_input)\n",
    "temp_input = temp_input[0].tolist()\n",
    "\n",
    "lst_output=[]\n",
    "n_steps=100\n",
    "nextNumberOfDays = 30\n",
    "i=0\n",
    "\n",
    "while(i<nextNumberOfDays):\n",
    "    \n",
    "    if(len(temp_input)>100):\n",
    "        x_input=np.array(temp_input[1:])\n",
    "        print(\"{} day input {}\".format(i,x_input))\n",
    "        \n",
    "        x_input=x_input.reshape(1,-1)\n",
    "        x_input = x_input.reshape((1, n_steps, 1))\n",
    "        yhat = model.predict(x_input, verbose=0)\n",
    "        \n",
    "        print(\"{} day output {}\".format(i,yhat))\n",
    "        temp_input.extend(yhat[0].tolist())\n",
    "        temp_input=temp_input[1:]\n",
    "        \n",
    "        lst_output.extend(yhat.tolist())\n",
    "        i=i+1\n",
    "        \n",
    "    else:\n",
    "        x_input = x_input.reshape((1, n_steps,1))\n",
    "        yhat = model.predict(x_input, verbose=0)\n",
    "        \n",
    "        print(yhat[0])\n",
    "        temp_input.extend(yhat[0].tolist())\n",
    "        \n",
    "        print(len(temp_input))\n",
    "        lst_output.extend(yhat.tolist())\n",
    "        i=i+1\n",
    "    \n",
    "\n",
    "print(lst_output)"
   ]
  },
  {
   "cell_type": "code",
   "execution_count": null,
   "id": "3ceb157a",
   "metadata": {},
   "outputs": [],
   "source": []
  },
  {
   "cell_type": "code",
   "execution_count": null,
   "id": "3775ba23",
   "metadata": {},
   "outputs": [],
   "source": []
  }
 ],
 "metadata": {
  "kernelspec": {
   "display_name": "Python 3 (ipykernel)",
   "language": "python",
   "name": "python3"
  },
  "language_info": {
   "codemirror_mode": {
    "name": "ipython",
    "version": 3
   },
   "file_extension": ".py",
   "mimetype": "text/x-python",
   "name": "python",
   "nbconvert_exporter": "python",
   "pygments_lexer": "ipython3",
   "version": "3.9.12"
  }
 },
 "nbformat": 4,
 "nbformat_minor": 5
}
